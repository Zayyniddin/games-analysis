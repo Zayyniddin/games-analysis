{
 "cells": [
  {
   "cell_type": "markdown",
   "metadata": {},
   "source": [
    "# Исследование продаж  игр для интернет-магазина «Стримчик»\n",
    "\n",
    "## Цель проекта\n",
    "Определить закономерности, влияющие на успешность игр. Это поможет интернет-магазину сделать ставку на потенциально популярные продукты и спланировать рекламные кампании на 2017 год.\n",
    "\n",
    "## Задачи проекта\n",
    "1. Изучить общую информацию о данных.\n",
    "2. Подготовить данные к анализу:\n",
    "   - Привести названия столбцов к нижнему регистру;\n",
    "   - Преобразовать типы данных;\n",
    "   - Обработать пропуски;\n",
    "   - Обработать значения `'tbd'` в оценках пользователей;\n",
    "   - Посчитать суммарные продажи.\n",
    "3. Провести исследовательский анализ:\n",
    "   - Изучить выпуск игр по годам;\n",
    "   - Выявить динамику продаж по платформам;\n",
    "   - Исследовать влияние отзывов на продажи;\n",
    "   - Определить прибыльные жанры.\n",
    "4. Составить портрет пользователей по регионам (NA, EU, JP):\n",
    "   - Популярные платформы;\n",
    "   - Популярные жанры;\n",
    "   - Влияние рейтинга ESRB.\n",
    "5. Проверить гипотезы:\n",
    "   - Средние пользовательские рейтинги Xbox One и PC одинаковы;\n",
    "   - Средние пользовательские рейтинги жанров Action и Sports различаются.\n",
    "6. Сделать общий вывод.\n",
    "\n",
    "## Исходные данные\n",
    "В датасете содержится информация о продажах игр до 2016 года, включая оценки критиков и пользователей, жанры, платформы и рейтинг ESRB."
   ]
  },
  {
   "cell_type": "code",
   "execution_count": 1,
   "metadata": {},
   "outputs": [],
   "source": [
    "import pandas as pd\n",
    "import numpy as np\n",
    "import matplotlib.pyplot as plt\n",
    "import seaborn as sns\n",
    "from scipy import stats"
   ]
  },
  {
   "cell_type": "markdown",
   "metadata": {},
   "source": [
    "# Шаг 1. Изучение общей информации о данных"
   ]
  },
  {
   "cell_type": "code",
   "execution_count": 2,
   "metadata": {},
   "outputs": [
    {
     "data": {
      "text/html": [
       "<div>\n",
       "<style scoped>\n",
       "    .dataframe tbody tr th:only-of-type {\n",
       "        vertical-align: middle;\n",
       "    }\n",
       "\n",
       "    .dataframe tbody tr th {\n",
       "        vertical-align: top;\n",
       "    }\n",
       "\n",
       "    .dataframe thead th {\n",
       "        text-align: right;\n",
       "    }\n",
       "</style>\n",
       "<table border=\"1\" class=\"dataframe\">\n",
       "  <thead>\n",
       "    <tr style=\"text-align: right;\">\n",
       "      <th></th>\n",
       "      <th>Name</th>\n",
       "      <th>Platform</th>\n",
       "      <th>Year_of_Release</th>\n",
       "      <th>Genre</th>\n",
       "      <th>NA_sales</th>\n",
       "      <th>EU_sales</th>\n",
       "      <th>JP_sales</th>\n",
       "      <th>Other_sales</th>\n",
       "      <th>Critic_Score</th>\n",
       "      <th>User_Score</th>\n",
       "      <th>Rating</th>\n",
       "    </tr>\n",
       "  </thead>\n",
       "  <tbody>\n",
       "    <tr>\n",
       "      <th>0</th>\n",
       "      <td>Wii Sports</td>\n",
       "      <td>Wii</td>\n",
       "      <td>2006.0</td>\n",
       "      <td>Sports</td>\n",
       "      <td>41.36</td>\n",
       "      <td>28.96</td>\n",
       "      <td>3.77</td>\n",
       "      <td>8.45</td>\n",
       "      <td>76.0</td>\n",
       "      <td>8</td>\n",
       "      <td>E</td>\n",
       "    </tr>\n",
       "    <tr>\n",
       "      <th>1</th>\n",
       "      <td>Super Mario Bros.</td>\n",
       "      <td>NES</td>\n",
       "      <td>1985.0</td>\n",
       "      <td>Platform</td>\n",
       "      <td>29.08</td>\n",
       "      <td>3.58</td>\n",
       "      <td>6.81</td>\n",
       "      <td>0.77</td>\n",
       "      <td>NaN</td>\n",
       "      <td>NaN</td>\n",
       "      <td>NaN</td>\n",
       "    </tr>\n",
       "    <tr>\n",
       "      <th>2</th>\n",
       "      <td>Mario Kart Wii</td>\n",
       "      <td>Wii</td>\n",
       "      <td>2008.0</td>\n",
       "      <td>Racing</td>\n",
       "      <td>15.68</td>\n",
       "      <td>12.76</td>\n",
       "      <td>3.79</td>\n",
       "      <td>3.29</td>\n",
       "      <td>82.0</td>\n",
       "      <td>8.3</td>\n",
       "      <td>E</td>\n",
       "    </tr>\n",
       "    <tr>\n",
       "      <th>3</th>\n",
       "      <td>Wii Sports Resort</td>\n",
       "      <td>Wii</td>\n",
       "      <td>2009.0</td>\n",
       "      <td>Sports</td>\n",
       "      <td>15.61</td>\n",
       "      <td>10.93</td>\n",
       "      <td>3.28</td>\n",
       "      <td>2.95</td>\n",
       "      <td>80.0</td>\n",
       "      <td>8</td>\n",
       "      <td>E</td>\n",
       "    </tr>\n",
       "    <tr>\n",
       "      <th>4</th>\n",
       "      <td>Pokemon Red/Pokemon Blue</td>\n",
       "      <td>GB</td>\n",
       "      <td>1996.0</td>\n",
       "      <td>Role-Playing</td>\n",
       "      <td>11.27</td>\n",
       "      <td>8.89</td>\n",
       "      <td>10.22</td>\n",
       "      <td>1.00</td>\n",
       "      <td>NaN</td>\n",
       "      <td>NaN</td>\n",
       "      <td>NaN</td>\n",
       "    </tr>\n",
       "    <tr>\n",
       "      <th>5</th>\n",
       "      <td>Tetris</td>\n",
       "      <td>GB</td>\n",
       "      <td>1989.0</td>\n",
       "      <td>Puzzle</td>\n",
       "      <td>23.20</td>\n",
       "      <td>2.26</td>\n",
       "      <td>4.22</td>\n",
       "      <td>0.58</td>\n",
       "      <td>NaN</td>\n",
       "      <td>NaN</td>\n",
       "      <td>NaN</td>\n",
       "    </tr>\n",
       "    <tr>\n",
       "      <th>6</th>\n",
       "      <td>New Super Mario Bros.</td>\n",
       "      <td>DS</td>\n",
       "      <td>2006.0</td>\n",
       "      <td>Platform</td>\n",
       "      <td>11.28</td>\n",
       "      <td>9.14</td>\n",
       "      <td>6.50</td>\n",
       "      <td>2.88</td>\n",
       "      <td>89.0</td>\n",
       "      <td>8.5</td>\n",
       "      <td>E</td>\n",
       "    </tr>\n",
       "    <tr>\n",
       "      <th>7</th>\n",
       "      <td>Wii Play</td>\n",
       "      <td>Wii</td>\n",
       "      <td>2006.0</td>\n",
       "      <td>Misc</td>\n",
       "      <td>13.96</td>\n",
       "      <td>9.18</td>\n",
       "      <td>2.93</td>\n",
       "      <td>2.84</td>\n",
       "      <td>58.0</td>\n",
       "      <td>6.6</td>\n",
       "      <td>E</td>\n",
       "    </tr>\n",
       "    <tr>\n",
       "      <th>8</th>\n",
       "      <td>New Super Mario Bros. Wii</td>\n",
       "      <td>Wii</td>\n",
       "      <td>2009.0</td>\n",
       "      <td>Platform</td>\n",
       "      <td>14.44</td>\n",
       "      <td>6.94</td>\n",
       "      <td>4.70</td>\n",
       "      <td>2.24</td>\n",
       "      <td>87.0</td>\n",
       "      <td>8.4</td>\n",
       "      <td>E</td>\n",
       "    </tr>\n",
       "    <tr>\n",
       "      <th>9</th>\n",
       "      <td>Duck Hunt</td>\n",
       "      <td>NES</td>\n",
       "      <td>1984.0</td>\n",
       "      <td>Shooter</td>\n",
       "      <td>26.93</td>\n",
       "      <td>0.63</td>\n",
       "      <td>0.28</td>\n",
       "      <td>0.47</td>\n",
       "      <td>NaN</td>\n",
       "      <td>NaN</td>\n",
       "      <td>NaN</td>\n",
       "    </tr>\n",
       "  </tbody>\n",
       "</table>\n",
       "</div>"
      ],
      "text/plain": [
       "                        Name Platform  Year_of_Release         Genre  \\\n",
       "0                 Wii Sports      Wii           2006.0        Sports   \n",
       "1          Super Mario Bros.      NES           1985.0      Platform   \n",
       "2             Mario Kart Wii      Wii           2008.0        Racing   \n",
       "3          Wii Sports Resort      Wii           2009.0        Sports   \n",
       "4   Pokemon Red/Pokemon Blue       GB           1996.0  Role-Playing   \n",
       "5                     Tetris       GB           1989.0        Puzzle   \n",
       "6      New Super Mario Bros.       DS           2006.0      Platform   \n",
       "7                   Wii Play      Wii           2006.0          Misc   \n",
       "8  New Super Mario Bros. Wii      Wii           2009.0      Platform   \n",
       "9                  Duck Hunt      NES           1984.0       Shooter   \n",
       "\n",
       "   NA_sales  EU_sales  JP_sales  Other_sales  Critic_Score User_Score Rating  \n",
       "0     41.36     28.96      3.77         8.45          76.0          8      E  \n",
       "1     29.08      3.58      6.81         0.77           NaN        NaN    NaN  \n",
       "2     15.68     12.76      3.79         3.29          82.0        8.3      E  \n",
       "3     15.61     10.93      3.28         2.95          80.0          8      E  \n",
       "4     11.27      8.89     10.22         1.00           NaN        NaN    NaN  \n",
       "5     23.20      2.26      4.22         0.58           NaN        NaN    NaN  \n",
       "6     11.28      9.14      6.50         2.88          89.0        8.5      E  \n",
       "7     13.96      9.18      2.93         2.84          58.0        6.6      E  \n",
       "8     14.44      6.94      4.70         2.24          87.0        8.4      E  \n",
       "9     26.93      0.63      0.28         0.47           NaN        NaN    NaN  "
      ]
     },
     "execution_count": 2,
     "metadata": {},
     "output_type": "execute_result"
    }
   ],
   "source": [
    "data = pd.read_csv('./games.csv')\n",
    "data.head(10)"
   ]
  },
  {
   "cell_type": "code",
   "execution_count": 3,
   "metadata": {},
   "outputs": [
    {
     "data": {
      "text/plain": [
       "(16715, 11)"
      ]
     },
     "execution_count": 3,
     "metadata": {},
     "output_type": "execute_result"
    }
   ],
   "source": [
    "data.shape"
   ]
  },
  {
   "cell_type": "code",
   "execution_count": 4,
   "metadata": {},
   "outputs": [
    {
     "name": "stdout",
     "output_type": "stream",
     "text": [
      "<class 'pandas.core.frame.DataFrame'>\n",
      "RangeIndex: 16715 entries, 0 to 16714\n",
      "Data columns (total 11 columns):\n",
      " #   Column           Non-Null Count  Dtype  \n",
      "---  ------           --------------  -----  \n",
      " 0   Name             16713 non-null  object \n",
      " 1   Platform         16715 non-null  object \n",
      " 2   Year_of_Release  16446 non-null  float64\n",
      " 3   Genre            16713 non-null  object \n",
      " 4   NA_sales         16715 non-null  float64\n",
      " 5   EU_sales         16715 non-null  float64\n",
      " 6   JP_sales         16715 non-null  float64\n",
      " 7   Other_sales      16715 non-null  float64\n",
      " 8   Critic_Score     8137 non-null   float64\n",
      " 9   User_Score       10014 non-null  object \n",
      " 10  Rating           9949 non-null   object \n",
      "dtypes: float64(6), object(5)\n",
      "memory usage: 1.4+ MB\n"
     ]
    }
   ],
   "source": [
    "data.info()"
   ]
  },
  {
   "cell_type": "code",
   "execution_count": 5,
   "metadata": {},
   "outputs": [
    {
     "data": {
      "text/html": [
       "<style type=\"text/css\">\n",
       "#T_f54c5_row0_col0, #T_f54c5_row1_col0, #T_f54c5_row3_col0, #T_f54c5_row4_col0, #T_f54c5_row5_col0, #T_f54c5_row6_col0, #T_f54c5_row7_col0 {\n",
       "  background-color: #3b4cc0;\n",
       "  color: #f1f1f1;\n",
       "}\n",
       "#T_f54c5_row2_col0 {\n",
       "  background-color: #4358cb;\n",
       "  color: #f1f1f1;\n",
       "}\n",
       "#T_f54c5_row8_col0 {\n",
       "  background-color: #b40426;\n",
       "  color: #f1f1f1;\n",
       "}\n",
       "#T_f54c5_row9_col0 {\n",
       "  background-color: #f08b6e;\n",
       "  color: #f1f1f1;\n",
       "}\n",
       "#T_f54c5_row10_col0 {\n",
       "  background-color: #ef886b;\n",
       "  color: #f1f1f1;\n",
       "}\n",
       "</style>\n",
       "<table id=\"T_f54c5\">\n",
       "  <thead>\n",
       "    <tr>\n",
       "      <th class=\"blank level0\" >&nbsp;</th>\n",
       "      <th id=\"T_f54c5_level0_col0\" class=\"col_heading level0 col0\" >0</th>\n",
       "    </tr>\n",
       "  </thead>\n",
       "  <tbody>\n",
       "    <tr>\n",
       "      <th id=\"T_f54c5_level0_row0\" class=\"row_heading level0 row0\" >Name</th>\n",
       "      <td id=\"T_f54c5_row0_col0\" class=\"data row0 col0\" >0.000000</td>\n",
       "    </tr>\n",
       "    <tr>\n",
       "      <th id=\"T_f54c5_level0_row1\" class=\"row_heading level0 row1\" >Platform</th>\n",
       "      <td id=\"T_f54c5_row1_col0\" class=\"data row1 col0\" >0.000000</td>\n",
       "    </tr>\n",
       "    <tr>\n",
       "      <th id=\"T_f54c5_level0_row2\" class=\"row_heading level0 row2\" >Year_of_Release</th>\n",
       "      <td id=\"T_f54c5_row2_col0\" class=\"data row2 col0\" >1.600000</td>\n",
       "    </tr>\n",
       "    <tr>\n",
       "      <th id=\"T_f54c5_level0_row3\" class=\"row_heading level0 row3\" >Genre</th>\n",
       "      <td id=\"T_f54c5_row3_col0\" class=\"data row3 col0\" >0.000000</td>\n",
       "    </tr>\n",
       "    <tr>\n",
       "      <th id=\"T_f54c5_level0_row4\" class=\"row_heading level0 row4\" >NA_sales</th>\n",
       "      <td id=\"T_f54c5_row4_col0\" class=\"data row4 col0\" >0.000000</td>\n",
       "    </tr>\n",
       "    <tr>\n",
       "      <th id=\"T_f54c5_level0_row5\" class=\"row_heading level0 row5\" >EU_sales</th>\n",
       "      <td id=\"T_f54c5_row5_col0\" class=\"data row5 col0\" >0.000000</td>\n",
       "    </tr>\n",
       "    <tr>\n",
       "      <th id=\"T_f54c5_level0_row6\" class=\"row_heading level0 row6\" >JP_sales</th>\n",
       "      <td id=\"T_f54c5_row6_col0\" class=\"data row6 col0\" >0.000000</td>\n",
       "    </tr>\n",
       "    <tr>\n",
       "      <th id=\"T_f54c5_level0_row7\" class=\"row_heading level0 row7\" >Other_sales</th>\n",
       "      <td id=\"T_f54c5_row7_col0\" class=\"data row7 col0\" >0.000000</td>\n",
       "    </tr>\n",
       "    <tr>\n",
       "      <th id=\"T_f54c5_level0_row8\" class=\"row_heading level0 row8\" >Critic_Score</th>\n",
       "      <td id=\"T_f54c5_row8_col0\" class=\"data row8 col0\" >51.300000</td>\n",
       "    </tr>\n",
       "    <tr>\n",
       "      <th id=\"T_f54c5_level0_row9\" class=\"row_heading level0 row9\" >User_Score</th>\n",
       "      <td id=\"T_f54c5_row9_col0\" class=\"data row9 col0\" >40.100000</td>\n",
       "    </tr>\n",
       "    <tr>\n",
       "      <th id=\"T_f54c5_level0_row10\" class=\"row_heading level0 row10\" >Rating</th>\n",
       "      <td id=\"T_f54c5_row10_col0\" class=\"data row10 col0\" >40.500000</td>\n",
       "    </tr>\n",
       "  </tbody>\n",
       "</table>\n"
      ],
      "text/plain": [
       "<pandas.io.formats.style.Styler at 0x10fc5ecf0>"
      ]
     },
     "execution_count": 5,
     "metadata": {},
     "output_type": "execute_result"
    }
   ],
   "source": [
    "# Количество пропусков в проценах\n",
    "pd.DataFrame(round(data.isna().mean()*100,1)).style.background_gradient('coolwarm')"
   ]
  },
  {
   "cell_type": "markdown",
   "metadata": {},
   "source": [
    "###### Общая информация о таблице\n",
    "\n",
    "- В таблице 16 715 строк и 11 столбцов.\n",
    "- Названия столбцов не соответствуют общепринятому стилю — их нужно привести к нижнему регистру (snake_case).\n",
    "- Есть ошибки в типах данных (например, `Year_of_Release` — float, а должен быть int; `User_Score` — object вместо float).\n",
    "- Обнаружены пропуски, особенно в столбце `Critic_Score` (пропущено около половины значений).\n",
    "- В столбце `User_Score` встречается значение `'tbd'`, его нужно будет обработать отдельно."
   ]
  },
  {
   "cell_type": "markdown",
   "metadata": {},
   "source": [
    "# Шаг 2. Предобработка данных"
   ]
  },
  {
   "cell_type": "code",
   "execution_count": 6,
   "metadata": {},
   "outputs": [],
   "source": [
    "data.columns = data.columns.str.lower()"
   ]
  },
  {
   "cell_type": "markdown",
   "metadata": {},
   "source": [
    "Вместо привычного `rename` использовали `str.lower()` так как именно ошибок в названиях столбцов нету они их просто нужно было привести к нижему регистру"
   ]
  },
  {
   "cell_type": "code",
   "execution_count": 7,
   "metadata": {},
   "outputs": [
    {
     "data": {
      "text/plain": [
       "np.int64(0)"
      ]
     },
     "execution_count": 7,
     "metadata": {},
     "output_type": "execute_result"
    }
   ],
   "source": [
    "data.duplicated().sum()"
   ]
  },
  {
   "cell_type": "code",
   "execution_count": 8,
   "metadata": {},
   "outputs": [
    {
     "data": {
      "text/html": [
       "<div>\n",
       "<style scoped>\n",
       "    .dataframe tbody tr th:only-of-type {\n",
       "        vertical-align: middle;\n",
       "    }\n",
       "\n",
       "    .dataframe tbody tr th {\n",
       "        vertical-align: top;\n",
       "    }\n",
       "\n",
       "    .dataframe thead th {\n",
       "        text-align: right;\n",
       "    }\n",
       "</style>\n",
       "<table border=\"1\" class=\"dataframe\">\n",
       "  <thead>\n",
       "    <tr style=\"text-align: right;\">\n",
       "      <th></th>\n",
       "      <th>name</th>\n",
       "      <th>platform</th>\n",
       "      <th>year_of_release</th>\n",
       "      <th>genre</th>\n",
       "      <th>na_sales</th>\n",
       "      <th>eu_sales</th>\n",
       "      <th>jp_sales</th>\n",
       "      <th>other_sales</th>\n",
       "      <th>critic_score</th>\n",
       "      <th>user_score</th>\n",
       "      <th>rating</th>\n",
       "    </tr>\n",
       "  </thead>\n",
       "  <tbody>\n",
       "    <tr>\n",
       "      <th>604</th>\n",
       "      <td>Madden NFL 13</td>\n",
       "      <td>PS3</td>\n",
       "      <td>2012.0</td>\n",
       "      <td>Sports</td>\n",
       "      <td>2.11</td>\n",
       "      <td>0.22</td>\n",
       "      <td>0.00</td>\n",
       "      <td>0.23</td>\n",
       "      <td>83.0</td>\n",
       "      <td>5.5</td>\n",
       "      <td>E</td>\n",
       "    </tr>\n",
       "    <tr>\n",
       "      <th>659</th>\n",
       "      <td>NaN</td>\n",
       "      <td>GEN</td>\n",
       "      <td>1993.0</td>\n",
       "      <td>NaN</td>\n",
       "      <td>1.78</td>\n",
       "      <td>0.53</td>\n",
       "      <td>0.00</td>\n",
       "      <td>0.08</td>\n",
       "      <td>NaN</td>\n",
       "      <td>NaN</td>\n",
       "      <td>NaN</td>\n",
       "    </tr>\n",
       "    <tr>\n",
       "      <th>14244</th>\n",
       "      <td>NaN</td>\n",
       "      <td>GEN</td>\n",
       "      <td>1993.0</td>\n",
       "      <td>NaN</td>\n",
       "      <td>0.00</td>\n",
       "      <td>0.00</td>\n",
       "      <td>0.03</td>\n",
       "      <td>0.00</td>\n",
       "      <td>NaN</td>\n",
       "      <td>NaN</td>\n",
       "      <td>NaN</td>\n",
       "    </tr>\n",
       "    <tr>\n",
       "      <th>16230</th>\n",
       "      <td>Madden NFL 13</td>\n",
       "      <td>PS3</td>\n",
       "      <td>2012.0</td>\n",
       "      <td>Sports</td>\n",
       "      <td>0.00</td>\n",
       "      <td>0.01</td>\n",
       "      <td>0.00</td>\n",
       "      <td>0.00</td>\n",
       "      <td>83.0</td>\n",
       "      <td>5.5</td>\n",
       "      <td>E</td>\n",
       "    </tr>\n",
       "  </tbody>\n",
       "</table>\n",
       "</div>"
      ],
      "text/plain": [
       "                name platform  year_of_release   genre  na_sales  eu_sales  \\\n",
       "604    Madden NFL 13      PS3           2012.0  Sports      2.11      0.22   \n",
       "659              NaN      GEN           1993.0     NaN      1.78      0.53   \n",
       "14244            NaN      GEN           1993.0     NaN      0.00      0.00   \n",
       "16230  Madden NFL 13      PS3           2012.0  Sports      0.00      0.01   \n",
       "\n",
       "       jp_sales  other_sales  critic_score user_score rating  \n",
       "604        0.00         0.23          83.0        5.5      E  \n",
       "659        0.00         0.08           NaN        NaN    NaN  \n",
       "14244      0.03         0.00           NaN        NaN    NaN  \n",
       "16230      0.00         0.00          83.0        5.5      E  "
      ]
     },
     "execution_count": 8,
     "metadata": {},
     "output_type": "execute_result"
    }
   ],
   "source": [
    "data[data[['name', 'platform','year_of_release']].duplicated(keep=False)]"
   ]
  },
  {
   "cell_type": "markdown",
   "metadata": {},
   "source": [
    "Мы нашли неявные дубликаты — строки с одинаковыми значениями `name`, `platform` и `year_of_release`, но различающимися значениями по продажам. Такие дубликаты могут появляться из-за ошибок при логировании или сбора данных из разных источников.\n",
    "\n",
    "Чтобы избежать искажения статистики, мы объединили дубликаты, сгруппировав их и просуммировав числовые значения по продажам.\n"
   ]
  },
  {
   "cell_type": "code",
   "execution_count": 9,
   "metadata": {},
   "outputs": [],
   "source": [
    "data['total_sales'] = data[['na_sales', 'eu_sales', 'jp_sales', 'other_sales']].sum(axis=1)\n",
    "\n",
    "# Удалим дубликаты, сложив продажи\n",
    "data = data.groupby(['name', 'platform', 'year_of_release', 'genre', 'rating', 'critic_score', 'user_score'], as_index=False).agg({\n",
    "    'na_sales': 'sum',\n",
    "    'eu_sales': 'sum',\n",
    "    'jp_sales': 'sum',\n",
    "    'other_sales': 'sum',\n",
    "    'total_sales': 'sum'\n",
    "})"
   ]
  },
  {
   "cell_type": "code",
   "execution_count": 10,
   "metadata": {},
   "outputs": [
    {
     "data": {
      "text/plain": [
       "array(['7.9', '8.5', '8.9', '8.7', '4.6', 'tbd', '6.3', '6.6', '7.5',\n",
       "       '7.1', '6.7', '3.2', '8.3', '6.8', '5.7', '6.9', '7.7', '5.6', '9',\n",
       "       '7.8', '7.4', '8.1', '4.3', '4.4', '8.2', '4.9', '7.2', '8', '6.2',\n",
       "       '6.4', '5.9', '5.2', '5.3', '4.2', '8.4', '9.1', '9.4', '6.5',\n",
       "       '5.8', '3', '7', '6.1', '7.3', '5.5', '6', '3.5', '3.6', '3.8',\n",
       "       '7.6', '9.2', '5.4', '4.8', '4.5', '8.8', '2', '3.7', '2.5', '5',\n",
       "       '2.7', '3.1', '8.6', '4', '4.1', '1.7', '4.7', '3.4', '2.8', '5.1',\n",
       "       '2.1', '1.5', '9.6', '2.2', '2.4', '1.8', '2.6', '3.3', '0.5',\n",
       "       '1.9', '9.3', '0.9', '3.9', '1', '2.9', '2.3', '9.5', '1.2', '0.7',\n",
       "       '1.3', '1.4', '0.6'], dtype=object)"
      ]
     },
     "execution_count": 10,
     "metadata": {},
     "output_type": "execute_result"
    }
   ],
   "source": [
    "data['user_score'].unique()"
   ]
  },
  {
   "cell_type": "code",
   "execution_count": 11,
   "metadata": {},
   "outputs": [],
   "source": [
    "data['user_score'] = data['user_score'].replace('tbd', 0)"
   ]
  },
  {
   "cell_type": "markdown",
   "metadata": {},
   "source": [
    "В столбце user_score встречается значение \"tbd\" — это сокращение от \"To Be Determined\", то есть \"будет определено позже\". Такие значения означают, что оценка от пользователей ещё не выставлена, и это не числовое значение.\n",
    "\n",
    "Чтобы можно было работать со столбцом как с числовым (например, вычислять среднее значение, строить графики, делать фильтрации и т.д.), мы заменяем \"tbd\" на NaN — специальное значение, обозначающее пропущенные данные."
   ]
  },
  {
   "cell_type": "code",
   "execution_count": 12,
   "metadata": {},
   "outputs": [],
   "source": [
    "data['year_of_release'] = data['year_of_release'].astype('Int64')\n",
    "data['user_score'] = data['user_score'].astype('float')"
   ]
  },
  {
   "cell_type": "markdown",
   "metadata": {},
   "source": [
    "- `year_of_release` заменили именно на `int64` , а не привичный `datetime` так как тут нету месяцев стоит только год\n",
    "- `user_score` заменили на float так как это числовые значения "
   ]
  },
  {
   "cell_type": "code",
   "execution_count": 13,
   "metadata": {},
   "outputs": [],
   "source": [
    "data = data.dropna(subset=['name', 'genre', 'year_of_release'])"
   ]
  },
  {
   "cell_type": "markdown",
   "metadata": {},
   "source": [
    "- Удалили строки с пропущенными значениями в столбцах `name`, `genre` и `year_of_release`, так как количество таких строк незначительно, и без этих данных анализ невозможен.\n",
    "- Столбцы `user_score`, `critic_score` и `rating` содержат большое количество пропусков, поэтому их не заполняли.\n",
    "  - Заполнение средним или медианным значением в данном случае нецелесообразно, так как оценки пользователей и критиков, а также рейтинг ESRB могут быть уникальны для каждой конкретной игры.\n"
   ]
  },
  {
   "cell_type": "code",
   "execution_count": 14,
   "metadata": {},
   "outputs": [],
   "source": [
    "# Столбец с суммарными продажами\n",
    "data['total_sales'] = (\n",
    "    data['na_sales'] + data['eu_sales'] + data['jp_sales'] + data['other_sales']\n",
    ")"
   ]
  },
  {
   "cell_type": "markdown",
   "metadata": {},
   "source": [
    "Для удобства анализа мы рассчитали новый столбец total_sales, который отражает суммарные продажи каждой игры во всех регионах: Северной Америке, Европе, Японии и других странах."
   ]
  },
  {
   "cell_type": "code",
   "execution_count": 15,
   "metadata": {},
   "outputs": [],
   "source": [
    "data['rating'] = data['rating'].fillna('Unknown')"
   ]
  },
  {
   "cell_type": "markdown",
   "metadata": {},
   "source": [
    "Пропуски в рейтинге заменили на 'Unknown', чтобы не терять игры без рейтинга. Часто такие игры продаются вне США и Канады, где ESRB не применяется. Это нужно, чтобы учитывать все данные в анализе."
   ]
  },
  {
   "cell_type": "markdown",
   "metadata": {},
   "source": [
    "# Шаг 3. Исследовательский анализ данных "
   ]
  },
  {
   "cell_type": "code",
   "execution_count": 16,
   "metadata": {},
   "outputs": [
    {
     "data": {
      "text/plain": [
       "year_of_release\n",
       "2016    217\n",
       "2015    212\n",
       "2014    257\n",
       "2013    267\n",
       "2012    312\n",
       "2011    486\n",
       "2010    496\n",
       "2009    644\n",
       "2008    708\n",
       "2007    692\n",
       "2006    617\n",
       "2005    652\n",
       "2004    556\n",
       "2003    582\n",
       "2002    627\n",
       "2001    325\n",
       "2000    141\n",
       "1999     36\n",
       "1998     25\n",
       "1997     14\n",
       "1996      7\n",
       "1994      1\n",
       "1992      1\n",
       "1988      1\n",
       "1985      1\n",
       "Name: count, dtype: Int64"
      ]
     },
     "execution_count": 16,
     "metadata": {},
     "output_type": "execute_result"
    }
   ],
   "source": [
    "data['year_of_release'].value_counts().sort_index(ascending=False)"
   ]
  },
  {
   "cell_type": "code",
   "execution_count": 17,
   "metadata": {},
   "outputs": [
    {
     "data": {
      "image/png": "[encoded data removed]",
      "text/plain": [
       "<Figure size 1500x500 with 1 Axes>"
      ]
     },
     "metadata": {},
     "output_type": "display_data"
    }
   ],
   "source": [
    "data['year_of_release'].value_counts().sort_index().plot(kind='bar', figsize=(15, 5))\n",
    "plt.title('Количество игр по годам')\n",
    "plt.xlabel('Год выпуска')\n",
    "plt.ylabel('Количество игр')\n",
    "plt.grid(True)\n",
    "plt.show()"
   ]
  },
  {
   "cell_type": "markdown",
   "metadata": {},
   "source": [
    "###### Количество выпускаемых игр по годам\n",
    "\n",
    "- До 1994 года — количество выпускаемых игр крайне низкое, менее 100 игр в год.\n",
    "\n",
    "- 1995–2000 годы — наблюдается постепенный рост: количество игр увеличивается от ~200 и выше.\n",
    "\n",
    "- С 2001 года начинается устойчивый рост — количество выпускаемых игр превышает 700 в год, и эта тенденция продолжается до 2008 года.\n",
    "\n",
    "- Пик в 2008–2009 годах — самый продуктивный период: выпускается более 1400 игр в год.\n",
    "\n",
    "- После 2011 года — заметный спад: количество игр снижается до уровня менее 600 в год.\n",
    "\n",
    "\n",
    "Актуальный период для анализа: с 2001 года по 2016 год\n",
    "(данные до 2000 года лучше исключить из анализа, они нерепрезентативны для прогноза на 2017 год)."
   ]
  },
  {
   "cell_type": "code",
   "execution_count": 18,
   "metadata": {},
   "outputs": [],
   "source": [
    "actual_data = data.query('year_of_release >= 2001')"
   ]
  },
  {
   "cell_type": "code",
   "execution_count": 19,
   "metadata": {},
   "outputs": [
    {
     "data": {
      "text/plain": [
       "platform\n",
       "PS2     947.77\n",
       "X360    858.66\n",
       "PS3     788.92\n",
       "Wii     682.11\n",
       "DS      433.97\n",
       "PS4     243.05\n",
       "XB      225.67\n",
       "PSP     196.55\n",
       "PC      176.55\n",
       "GC      169.37\n",
       "GBA     165.66\n",
       "XOne    129.62\n",
       "3DS     124.13\n",
       "WiiU     66.27\n",
       "PSV      30.94\n",
       "PS       19.69\n",
       "DC        0.53\n",
       "Name: total_sales, dtype: float64"
      ]
     },
     "execution_count": 19,
     "metadata": {},
     "output_type": "execute_result"
    }
   ],
   "source": [
    "actual_data.groupby('platform')['total_sales'].sum().sort_values(ascending=False)"
   ]
  },
  {
   "cell_type": "markdown",
   "metadata": {},
   "source": [
    "- Выберем топ 5 платформ и построим по ним график"
   ]
  },
  {
   "cell_type": "code",
   "execution_count": 20,
   "metadata": {},
   "outputs": [
    {
     "data": {
      "image/png": "[encoded data removed]",
      "text/plain": [
       "<Figure size 1200x600 with 1 Axes>"
      ]
     },
     "metadata": {},
     "output_type": "display_data"
    }
   ],
   "source": [
    "top_platforms = ['PS2', 'X360', 'PS3', 'Wii', 'DS']\n",
    "platform_data = actual_data.query('platform in @top_platforms')\n",
    "\n",
    "\n",
    "sales_by_year = (\n",
    "    platform_data\n",
    "    .groupby(['year_of_release', 'platform'])['total_sales']\n",
    "    .sum()\n",
    "    .reset_index()\n",
    ")\n",
    "\n",
    "plt.figure(figsize=(12, 6))\n",
    "sns.lineplot(data=sales_by_year, x='year_of_release', y='total_sales', hue='platform')\n",
    "plt.title('Продажи по годам для топ-5 платформ')\n",
    "plt.xlabel('Год выпуска')\n",
    "plt.ylabel('Продажи (млн копий)')\n",
    "plt.grid(True)\n",
    "plt.show()"
   ]
  },
  {
   "cell_type": "markdown",
   "metadata": {},
   "source": [
    "###### PS2\n",
    "- Старт 2001\n",
    "- Пик с 2002 до 2004\n",
    "- Продажи падали с 2005\n",
    "- Полностью ушла с рынка к 2011\n",
    "\n",
    "###### DS\n",
    "- Старт 2004\n",
    "- Пик с 2007 до 2008\n",
    "- Продажи падали с 2009\n",
    "- Полностью ушла с рынка к 2013\n",
    "\n",
    "###### X360\n",
    "- Старт 2005\n",
    "- Пик в 2010\n",
    "- Продажи падали с 2011\n",
    "- Полностью ушла с рынка к 2016\n",
    "\n",
    "###### PS3\n",
    "- Старт 2006\n",
    "- Пик с 2008 до 2011\n",
    "- Продажи падали с 2012\n",
    "- Полностью ушла с рынка к 2016\n",
    "\n",
    "###### Wii\n",
    "- Старт 2006\n",
    "- Пик в 2009\n",
    "- Продажи падали с 2010\n",
    "- Полностью ушла с рынка к 2016\n",
    "\n",
    "мне кажется нужно взять выборку начиная с 2010 года так как тут уже все старые модели уже почти на нуле и в тренде более новые модели по типу ps3 x360"
   ]
  },
  {
   "cell_type": "markdown",
   "metadata": {},
   "source": [
    "###### Общий вывод:\n",
    "\n",
    "- Жизненный цикл платформы (от старта до выхода с рынка) в среднем составляет 10–12 лет.\n",
    "\n",
    "- Пиковый период продаж приходится примерно на 3–5 лет после запуска, затем наблюдается спад."
   ]
  },
  {
   "cell_type": "code",
   "execution_count": 21,
   "metadata": {},
   "outputs": [],
   "source": [
    "actual_data = data.query('year_of_release >= 2012 and year_of_release <= 2016')"
   ]
  },
  {
   "cell_type": "code",
   "execution_count": 22,
   "metadata": {},
   "outputs": [
    {
     "data": {
      "text/plain": [
       "platform\n",
       "PS4     243.05\n",
       "PS3     207.88\n",
       "X360    180.60\n",
       "XOne    129.62\n",
       "3DS      79.71\n",
       "WiiU     66.27\n",
       "PC       54.31\n",
       "PSV      27.06\n",
       "Wii      13.23\n",
       "DS        1.02\n",
       "PSP       0.15\n",
       "Name: total_sales, dtype: float64"
      ]
     },
     "execution_count": 22,
     "metadata": {},
     "output_type": "execute_result"
    }
   ],
   "source": [
    "actual_data.groupby('platform')['total_sales'].sum().sort_values(ascending=False)"
   ]
  },
  {
   "cell_type": "markdown",
   "metadata": {},
   "source": [
    "- Снова выберем топ 5 платформ и построим по ним ящик с усами"
   ]
  },
  {
   "cell_type": "code",
   "execution_count": 23,
   "metadata": {},
   "outputs": [
    {
     "data": {
      "image/png": "[encoded data removed]",
      "text/plain": [
       "<Figure size 1200x600 with 1 Axes>"
      ]
     },
     "metadata": {},
     "output_type": "display_data"
    }
   ],
   "source": [
    "top_platforms = ['PS4', 'PS3', 'X360', 'XOne', '3DS']\n",
    "top_data = actual_data.query('platform in @top_platforms')\n",
    "\n",
    "plt.figure(figsize=(12, 6))\n",
    "sns.boxplot(data=top_data, x='platform', y='total_sales')\n",
    "plt.title('Распределение глобальных продаж по платформам (2012–2016)')\n",
    "plt.xlabel('Платформа')\n",
    "plt.ylabel('Глобальные продажи (млн копий)')\n",
    "plt.grid(True)\n",
    "plt.show()"
   ]
  },
  {
   "cell_type": "markdown",
   "metadata": {},
   "source": [
    "- У всех платформ медиана продаж находится примерно ниже 1 млн копий.\n",
    "- У PS4 и XOne медиана чуть выше, чем у остальных.\n",
    "- У всех платформ заметно большое количество выбросов — игры, которые продавались значительно лучше других (до 22 млн копий).\n",
    "- Это говорит о том, что некоторые хиты значительно превосходили остальные по продажам.\n",
    "- У платформ X360, X360 и PS4 IQR шире → более разнообразные продажи.\n",
    "- У PS3 и 3DS коробка меньше → продажи более сконцентрированы в узком диапазоне.\n",
    "\n",
    "###### Выводы:\n",
    "- У всех платформ основная масса игр продавалась в пределах до 1-2 млн копий, но есть значительное число хитов.\n",
    "- Платформы XOne и PS4 выделяются как более успешные с точки зрения \"топ-продаж\".\n",
    "- Много выбросов — индустрия видеоигр сильно зависит от хитов."
   ]
  },
  {
   "cell_type": "code",
   "execution_count": 24,
   "metadata": {},
   "outputs": [
    {
     "data": {
      "image/png": "[encoded data removed]",
      "text/plain": [
       "<Figure size 1200x600 with 1 Axes>"
      ]
     },
     "metadata": {},
     "output_type": "display_data"
    }
   ],
   "source": [
    "top_platforms = ['PS4', 'PS3', 'X360', 'XOne', '3DS']\n",
    "top_data = actual_data.query('platform in @top_platforms')\n",
    "\n",
    "plt.figure(figsize=(12, 6))\n",
    "sns.boxplot(data=top_data, x='platform', y='total_sales')\n",
    "plt.ylim(0, 1.5)  \n",
    "plt.title('Распределение глобальных продаж по платформам (2012–2016) без выбросов')\n",
    "plt.xlabel('Платформа')\n",
    "plt.ylabel('Глобальные продажи (млн копий)')\n",
    "plt.grid(True)\n",
    "plt.show()"
   ]
  },
  {
   "cell_type": "markdown",
   "metadata": {},
   "source": [
    "Распределение глобальных продаж по платформам (2010–2016), без выбросов:\n",
    "\n",
    "- Медиана продаж у всех платформ находится в пределах 0.3–0.5 млн копий. Самая высокая медиана — у X360 и XOne (0.45 млн), самая низкая — у 3DS (~0.3 млн).\n",
    "\n",
    "- Наибольший межквартильный размах (IQR) у платформ XOne, PS4 и X360, что говорит о широком разбросе типичных продаж — от малотиражных до среднеуспешных игр.\n",
    "\n",
    "- Наименьший IQR у 3DS, что указывает на более сосредоточенные продажи — большинство игр продавались в похожем диапазоне.\n",
    "\n",
    "- Несмотря на отсутствие выбросов на этом графике, по предыдущей версии мы знаем, что у всех платформ встречаются отдельные хиты, значительно превышающие типичные значения (в 5–10 раз и выше)."
   ]
  },
  {
   "cell_type": "markdown",
   "metadata": {},
   "source": [
    "- Теперь проверим влияют ли отзывы критиков и пользователей на продажи игр, выберем топ 5 платформ и посчитаем кореляцию \n",
    "- `user_score` vs `total_sales`\n",
    "\n",
    "- `critic_score` vs `total_sales`\n"
   ]
  },
  {
   "cell_type": "code",
   "execution_count": 25,
   "metadata": {},
   "outputs": [
    {
     "data": {
      "image/png": "[encoded data removed]",
      "text/plain": [
       "<Figure size 1400x500 with 2 Axes>"
      ]
     },
     "metadata": {},
     "output_type": "display_data"
    },
    {
     "name": "stdout",
     "output_type": "stream",
     "text": [
      "▶ Платформа: PS4\n",
      "  Корреляция (user_score и total_sales): -0.01\n",
      "  Корреляция (critic_score и total_sales): 0.40\n",
      "--------------------------------------------------\n"
     ]
    },
    {
     "data": {
      "image/png": "[encoded data removed]",
      "text/plain": [
       "<Figure size 1400x500 with 2 Axes>"
      ]
     },
     "metadata": {},
     "output_type": "display_data"
    },
    {
     "name": "stdout",
     "output_type": "stream",
     "text": [
      "▶ Платформа: PS3\n",
      "  Корреляция (user_score и total_sales): 0.01\n",
      "  Корреляция (critic_score и total_sales): 0.33\n",
      "--------------------------------------------------\n"
     ]
    },
    {
     "data": {
      "image/png": "[encoded data removed]",
      "text/plain": [
       "<Figure size 1400x500 with 2 Axes>"
      ]
     },
     "metadata": {},
     "output_type": "display_data"
    },
    {
     "name": "stdout",
     "output_type": "stream",
     "text": [
      "▶ Платформа: PC\n",
      "  Корреляция (user_score и total_sales): -0.12\n",
      "  Корреляция (critic_score и total_sales): 0.22\n",
      "--------------------------------------------------\n"
     ]
    },
    {
     "data": {
      "image/png": "[encoded data removed]",
      "text/plain": [
       "<Figure size 1400x500 with 2 Axes>"
      ]
     },
     "metadata": {},
     "output_type": "display_data"
    },
    {
     "name": "stdout",
     "output_type": "stream",
     "text": [
      "▶ Платформа: X360\n",
      "  Корреляция (user_score и total_sales): 0.00\n",
      "  Корреляция (critic_score и total_sales): 0.36\n",
      "--------------------------------------------------\n"
     ]
    },
    {
     "data": {
      "image/png": "[encoded data removed]",
      "text/plain": [
       "<Figure size 1400x500 with 2 Axes>"
      ]
     },
     "metadata": {},
     "output_type": "display_data"
    },
    {
     "name": "stdout",
     "output_type": "stream",
     "text": [
      "▶ Платформа: XOne\n",
      "  Корреляция (user_score и total_sales): -0.03\n",
      "  Корреляция (critic_score и total_sales): 0.41\n",
      "--------------------------------------------------\n"
     ]
    }
   ],
   "source": [
    "# Выбираем топ-5 платформ по числу игр\n",
    "top_platforms = actual_data['platform'].value_counts().head(5).index\n",
    "\n",
    "\n",
    "# Строим графики и считаем корреляции\n",
    "for platform in top_platforms:\n",
    "    platform_data = actual_data[actual_data['platform'] == platform]\n",
    "\n",
    "    plt.figure(figsize=(14, 5))\n",
    "\n",
    "    # Диаграмма рассеяния для user_score\n",
    "    plt.subplot(1, 2, 1)\n",
    "    sns.scatterplot(data=platform_data, x='user_score', y='total_sales')\n",
    "    plt.title(f'{platform} — user_score vs total_sales')\n",
    "    plt.xlabel('Оценка пользователя')\n",
    "    plt.ylabel('Глобальные продажи')\n",
    "    plt.grid(True)\n",
    "\n",
    "    # Диаграмма рассеяния для critic_score\n",
    "    plt.subplot(1, 2, 2)\n",
    "    sns.scatterplot(data=platform_data, x='critic_score', y='total_sales')\n",
    "    plt.title(f'{platform} — critic_score vs total_sales')\n",
    "    plt.xlabel('Оценка критиков')\n",
    "    plt.ylabel('Глобальные продажи')\n",
    "    plt.grid(True)\n",
    "\n",
    "    plt.tight_layout()\n",
    "    plt.show()\n",
    "\n",
    "    # Вывод корреляций\n",
    "    user_corr = platform_data['user_score'].corr(platform_data['total_sales'])\n",
    "    critic_corr = platform_data['critic_score'].corr(platform_data['total_sales'])\n",
    "\n",
    "    print(f'▶ Платформа: {platform}')\n",
    "    print(f'  Корреляция (user_score и total_sales): {user_corr:.2f}')\n",
    "    print(f'  Корреляция (critic_score и total_sales): {critic_corr:.2f}')\n",
    "    print('-' * 50)"
   ]
  },
  {
   "cell_type": "markdown",
   "metadata": {},
   "source": [
    "###### Влияние отзывов на продажи топ 5 платформ\n",
    "\n",
    "\n",
    "- оценки критиков **слабо, но влияют** на продажи;\n",
    "- пользовательские оценки **почти не связаны** с продажами;\n",
    "- возможно, игроки покупают игры ещё до формирования пользовательских отзывов.\n"
   ]
  },
  {
   "cell_type": "markdown",
   "metadata": {},
   "source": [
    "- Посмотрим распределение игр по жанрам\n"
   ]
  },
  {
   "cell_type": "code",
   "execution_count": 26,
   "metadata": {},
   "outputs": [
    {
     "data": {
      "text/plain": [
       "genre\n",
       "Action          425\n",
       "Shooter         171\n",
       "Role-Playing    159\n",
       "Sports          136\n",
       "Racing           79\n",
       "Fighting         63\n",
       "Platform         59\n",
       "Misc             56\n",
       "Adventure        48\n",
       "Simulation       35\n",
       "Strategy         25\n",
       "Puzzle            9\n",
       "Name: count, dtype: int64"
      ]
     },
     "execution_count": 26,
     "metadata": {},
     "output_type": "execute_result"
    }
   ],
   "source": [
    "actual_data['genre'].value_counts()"
   ]
  },
  {
   "cell_type": "markdown",
   "metadata": {},
   "source": [
    "- **Action** — уверенный лидер по числу игр. Это, скорее всего, связано с популярностью и широким охватом игроков.\n",
    "\n",
    "- **Misc**, **Sports**, **Role-Playing**, **Adventure** — тоже распространены.\n",
    "\n",
    "- **Puzzle**, **Platform**, **Strategy** — самые редкие."
   ]
  },
  {
   "cell_type": "code",
   "execution_count": 27,
   "metadata": {},
   "outputs": [
    {
     "data": {
      "text/plain": [
       "genre\n",
       "Action          328.26\n",
       "Shooter         241.37\n",
       "Sports          138.76\n",
       "Role-Playing     91.29\n",
       "Platform         49.58\n",
       "Racing           41.56\n",
       "Misc             37.75\n",
       "Fighting         26.21\n",
       "Simulation       24.39\n",
       "Adventure        11.30\n",
       "Strategy          9.29\n",
       "Puzzle            3.14\n",
       "Name: total_sales, dtype: float64"
      ]
     },
     "execution_count": 27,
     "metadata": {},
     "output_type": "execute_result"
    }
   ],
   "source": [
    "actual_data.groupby('genre')['total_sales'].sum().sort_values(ascending=False)"
   ]
  },
  {
   "cell_type": "markdown",
   "metadata": {},
   "source": [
    "- **Action** — и самый массовый, и самый прибыльный жанр.\n",
    "\n",
    "- **Shooter** — хотя меньше по количеству игр, но почти догоняет по прибыли Action.\n",
    "\n",
    "- **Puzzle** и **Strategy** — имеют наименьшие продажи и наименьшее количество игр."
   ]
  },
  {
   "cell_type": "code",
   "execution_count": 28,
   "metadata": {},
   "outputs": [
    {
     "data": {
      "image/png": "[encoded data removed]",
      "text/plain": [
       "<Figure size 1000x600 with 1 Axes>"
      ]
     },
     "metadata": {},
     "output_type": "display_data"
    }
   ],
   "source": [
    "# Средние продажи на одну игру в каждом жанре\n",
    "genre_avg_sales = actual_data.groupby('genre')['total_sales'].mean().sort_values(ascending=False)\n",
    "genre_avg_sales.plot(kind='barh', figsize=(10,6), color='skyblue')\n",
    "plt.title('Средние продажи на одну игру по жанрам')\n",
    "plt.xlabel('Средние продажи (млн копий)')\n",
    "plt.ylabel('Жанр')\n",
    "plt.gca().invert_yaxis()  \n",
    "plt.grid(axis='x', linestyle='--', alpha=0.7)\n",
    "plt.tight_layout()\n",
    "plt.show()"
   ]
  },
  {
   "cell_type": "markdown",
   "metadata": {},
   "source": [
    "- Тут уже другая картина видно как сильно **Shooter** и **Platform** отделяются по продажам на одну игру в каждом жанре)"
   ]
  },
  {
   "cell_type": "markdown",
   "metadata": {},
   "source": [
    "# Шаг 4. Портрет пользователя каждого региона"
   ]
  },
  {
   "cell_type": "code",
   "execution_count": 29,
   "metadata": {},
   "outputs": [],
   "source": [
    "regions = ['na_sales', 'eu_sales', 'jp_sales']"
   ]
  },
  {
   "cell_type": "code",
   "execution_count": 30,
   "metadata": {},
   "outputs": [
    {
     "name": "stdout",
     "output_type": "stream",
     "text": [
      "\n",
      "Топ платформ в NA_SALES (в долях):\n"
     ]
    },
    {
     "data": {
      "text/html": [
       "<div>\n",
       "<style scoped>\n",
       "    .dataframe tbody tr th:only-of-type {\n",
       "        vertical-align: middle;\n",
       "    }\n",
       "\n",
       "    .dataframe tbody tr th {\n",
       "        vertical-align: top;\n",
       "    }\n",
       "\n",
       "    .dataframe thead th {\n",
       "        text-align: right;\n",
       "    }\n",
       "</style>\n",
       "<table border=\"1\" class=\"dataframe\">\n",
       "  <thead>\n",
       "    <tr style=\"text-align: right;\">\n",
       "      <th></th>\n",
       "      <th>Доля (%)</th>\n",
       "    </tr>\n",
       "    <tr>\n",
       "      <th>platform</th>\n",
       "      <th></th>\n",
       "    </tr>\n",
       "  </thead>\n",
       "  <tbody>\n",
       "    <tr>\n",
       "      <th>X360</th>\n",
       "      <td>28.53</td>\n",
       "    </tr>\n",
       "    <tr>\n",
       "      <th>PS4</th>\n",
       "      <td>22.49</td>\n",
       "    </tr>\n",
       "    <tr>\n",
       "      <th>PS3</th>\n",
       "      <td>20.56</td>\n",
       "    </tr>\n",
       "    <tr>\n",
       "      <th>XOne</th>\n",
       "      <td>20.20</td>\n",
       "    </tr>\n",
       "    <tr>\n",
       "      <th>WiiU</th>\n",
       "      <td>8.22</td>\n",
       "    </tr>\n",
       "  </tbody>\n",
       "</table>\n",
       "</div>"
      ],
      "text/plain": [
       "          Доля (%)\n",
       "platform          \n",
       "X360         28.53\n",
       "PS4          22.49\n",
       "PS3          20.56\n",
       "XOne         20.20\n",
       "WiiU          8.22"
      ]
     },
     "metadata": {},
     "output_type": "display_data"
    },
    {
     "name": "stdout",
     "output_type": "stream",
     "text": [
      "\n",
      "Топ платформ в EU_SALES (в долях):\n"
     ]
    },
    {
     "data": {
      "text/html": [
       "<div>\n",
       "<style scoped>\n",
       "    .dataframe tbody tr th:only-of-type {\n",
       "        vertical-align: middle;\n",
       "    }\n",
       "\n",
       "    .dataframe tbody tr th {\n",
       "        vertical-align: top;\n",
       "    }\n",
       "\n",
       "    .dataframe thead th {\n",
       "        text-align: right;\n",
       "    }\n",
       "</style>\n",
       "<table border=\"1\" class=\"dataframe\">\n",
       "  <thead>\n",
       "    <tr style=\"text-align: right;\">\n",
       "      <th></th>\n",
       "      <th>Доля (%)</th>\n",
       "    </tr>\n",
       "    <tr>\n",
       "      <th>platform</th>\n",
       "      <th></th>\n",
       "    </tr>\n",
       "  </thead>\n",
       "  <tbody>\n",
       "    <tr>\n",
       "      <th>PS4</th>\n",
       "      <td>34.86</td>\n",
       "    </tr>\n",
       "    <tr>\n",
       "      <th>PS3</th>\n",
       "      <td>24.42</td>\n",
       "    </tr>\n",
       "    <tr>\n",
       "      <th>X360</th>\n",
       "      <td>17.77</td>\n",
       "    </tr>\n",
       "    <tr>\n",
       "      <th>XOne</th>\n",
       "      <td>13.12</td>\n",
       "    </tr>\n",
       "    <tr>\n",
       "      <th>PC</th>\n",
       "      <td>9.83</td>\n",
       "    </tr>\n",
       "  </tbody>\n",
       "</table>\n",
       "</div>"
      ],
      "text/plain": [
       "          Доля (%)\n",
       "platform          \n",
       "PS4          34.86\n",
       "PS3          24.42\n",
       "X360         17.77\n",
       "XOne         13.12\n",
       "PC            9.83"
      ]
     },
     "metadata": {},
     "output_type": "display_data"
    },
    {
     "name": "stdout",
     "output_type": "stream",
     "text": [
      "\n",
      "Топ платформ в JP_SALES (в долях):\n"
     ]
    },
    {
     "data": {
      "text/html": [
       "<div>\n",
       "<style scoped>\n",
       "    .dataframe tbody tr th:only-of-type {\n",
       "        vertical-align: middle;\n",
       "    }\n",
       "\n",
       "    .dataframe tbody tr th {\n",
       "        vertical-align: top;\n",
       "    }\n",
       "\n",
       "    .dataframe thead th {\n",
       "        text-align: right;\n",
       "    }\n",
       "</style>\n",
       "<table border=\"1\" class=\"dataframe\">\n",
       "  <thead>\n",
       "    <tr style=\"text-align: right;\">\n",
       "      <th></th>\n",
       "      <th>Доля (%)</th>\n",
       "    </tr>\n",
       "    <tr>\n",
       "      <th>platform</th>\n",
       "      <th></th>\n",
       "    </tr>\n",
       "  </thead>\n",
       "  <tbody>\n",
       "    <tr>\n",
       "      <th>3DS</th>\n",
       "      <td>36.24</td>\n",
       "    </tr>\n",
       "    <tr>\n",
       "      <th>PS3</th>\n",
       "      <td>27.64</td>\n",
       "    </tr>\n",
       "    <tr>\n",
       "      <th>WiiU</th>\n",
       "      <td>13.86</td>\n",
       "    </tr>\n",
       "    <tr>\n",
       "      <th>PS4</th>\n",
       "      <td>12.66</td>\n",
       "    </tr>\n",
       "    <tr>\n",
       "      <th>PSV</th>\n",
       "      <td>9.60</td>\n",
       "    </tr>\n",
       "  </tbody>\n",
       "</table>\n",
       "</div>"
      ],
      "text/plain": [
       "          Доля (%)\n",
       "platform          \n",
       "3DS          36.24\n",
       "PS3          27.64\n",
       "WiiU         13.86\n",
       "PS4          12.66\n",
       "PSV           9.60"
      ]
     },
     "metadata": {},
     "output_type": "display_data"
    }
   ],
   "source": [
    "for region in regions:\n",
    "    print(f\"\\nТоп платформ в {region.upper()} (в долях):\")\n",
    "    platform_sales = actual_data.groupby('platform')[region].sum()\n",
    "    top5 = platform_sales.sort_values(ascending=False).head(5)\n",
    "    shares = top5 / top5.sum() * 100\n",
    "    display(shares.round(2).to_frame(name='Доля (%)'))"
   ]
  },
  {
   "cell_type": "markdown",
   "metadata": {},
   "source": [
    "###### Популяность платформ по регионам:\n",
    "\n",
    "- Северная Америка (NA):\n",
    "\n",
    "  - Лидирует X360 (28.53%), далее PS4 (22.49%), PS3 (20.56%) и XOne (20.20%).\n",
    "\n",
    "  - Рынок ориентирован на домашние консоли, особенно популярны платформы с фокусом на экшн и шутеры.\n",
    "\n",
    "- Европа (EU):\n",
    "\n",
    "    - Ведущая платформа — PS4 (34.86%), далее PS3 (24.42%) и X360 (17.77%).\n",
    "\n",
    "    - Европейский рынок также предпочитает домашние консоли, но заметно больше интереса к ПК — PC занимает 9.83% (в отличие от других регионов).\n",
    "\n",
    "- Япония (JP):\n",
    "\n",
    "    - Абсолютный лидер — 3DS (36.24%), также популярны PS3 (27.64%) и WiiU (13.86%).\n",
    "\n",
    "    - Японский рынок ориентирован на портативный гейминг, что отражает локальные особенности потребления (мобильность, компактность).\n",
    "\n"
   ]
  },
  {
   "cell_type": "code",
   "execution_count": 31,
   "metadata": {},
   "outputs": [
    {
     "name": "stdout",
     "output_type": "stream",
     "text": [
      "\n",
      "Топ жанров в NA_SALES (в долях):\n"
     ]
    },
    {
     "data": {
      "text/html": [
       "<div>\n",
       "<style scoped>\n",
       "    .dataframe tbody tr th:only-of-type {\n",
       "        vertical-align: middle;\n",
       "    }\n",
       "\n",
       "    .dataframe tbody tr th {\n",
       "        vertical-align: top;\n",
       "    }\n",
       "\n",
       "    .dataframe thead th {\n",
       "        text-align: right;\n",
       "    }\n",
       "</style>\n",
       "<table border=\"1\" class=\"dataframe\">\n",
       "  <thead>\n",
       "    <tr style=\"text-align: right;\">\n",
       "      <th></th>\n",
       "      <th>Доля (%)</th>\n",
       "    </tr>\n",
       "    <tr>\n",
       "      <th>genre</th>\n",
       "      <th></th>\n",
       "    </tr>\n",
       "  </thead>\n",
       "  <tbody>\n",
       "    <tr>\n",
       "      <th>Action</th>\n",
       "      <td>36.86</td>\n",
       "    </tr>\n",
       "    <tr>\n",
       "      <th>Shooter</th>\n",
       "      <td>30.63</td>\n",
       "    </tr>\n",
       "    <tr>\n",
       "      <th>Sports</th>\n",
       "      <td>17.43</td>\n",
       "    </tr>\n",
       "    <tr>\n",
       "      <th>Role-Playing</th>\n",
       "      <td>9.66</td>\n",
       "    </tr>\n",
       "    <tr>\n",
       "      <th>Platform</th>\n",
       "      <td>5.42</td>\n",
       "    </tr>\n",
       "  </tbody>\n",
       "</table>\n",
       "</div>"
      ],
      "text/plain": [
       "              Доля (%)\n",
       "genre                 \n",
       "Action           36.86\n",
       "Shooter          30.63\n",
       "Sports           17.43\n",
       "Role-Playing      9.66\n",
       "Platform          5.42"
      ]
     },
     "metadata": {},
     "output_type": "display_data"
    },
    {
     "name": "stdout",
     "output_type": "stream",
     "text": [
      "\n",
      "Топ жанров в EU_SALES (в долях):\n"
     ]
    },
    {
     "data": {
      "text/html": [
       "<div>\n",
       "<style scoped>\n",
       "    .dataframe tbody tr th:only-of-type {\n",
       "        vertical-align: middle;\n",
       "    }\n",
       "\n",
       "    .dataframe tbody tr th {\n",
       "        vertical-align: top;\n",
       "    }\n",
       "\n",
       "    .dataframe thead th {\n",
       "        text-align: right;\n",
       "    }\n",
       "</style>\n",
       "<table border=\"1\" class=\"dataframe\">\n",
       "  <thead>\n",
       "    <tr style=\"text-align: right;\">\n",
       "      <th></th>\n",
       "      <th>Доля (%)</th>\n",
       "    </tr>\n",
       "    <tr>\n",
       "      <th>genre</th>\n",
       "      <th></th>\n",
       "    </tr>\n",
       "  </thead>\n",
       "  <tbody>\n",
       "    <tr>\n",
       "      <th>Action</th>\n",
       "      <td>39.97</td>\n",
       "    </tr>\n",
       "    <tr>\n",
       "      <th>Shooter</th>\n",
       "      <td>28.01</td>\n",
       "    </tr>\n",
       "    <tr>\n",
       "      <th>Sports</th>\n",
       "      <td>16.59</td>\n",
       "    </tr>\n",
       "    <tr>\n",
       "      <th>Role-Playing</th>\n",
       "      <td>8.88</td>\n",
       "    </tr>\n",
       "    <tr>\n",
       "      <th>Racing</th>\n",
       "      <td>6.55</td>\n",
       "    </tr>\n",
       "  </tbody>\n",
       "</table>\n",
       "</div>"
      ],
      "text/plain": [
       "              Доля (%)\n",
       "genre                 \n",
       "Action           39.97\n",
       "Shooter          28.01\n",
       "Sports           16.59\n",
       "Role-Playing      8.88\n",
       "Racing            6.55"
      ]
     },
     "metadata": {},
     "output_type": "display_data"
    },
    {
     "name": "stdout",
     "output_type": "stream",
     "text": [
      "\n",
      "Топ жанров в JP_SALES (в долях):\n"
     ]
    },
    {
     "data": {
      "text/html": [
       "<div>\n",
       "<style scoped>\n",
       "    .dataframe tbody tr th:only-of-type {\n",
       "        vertical-align: middle;\n",
       "    }\n",
       "\n",
       "    .dataframe tbody tr th {\n",
       "        vertical-align: top;\n",
       "    }\n",
       "\n",
       "    .dataframe thead th {\n",
       "        text-align: right;\n",
       "    }\n",
       "</style>\n",
       "<table border=\"1\" class=\"dataframe\">\n",
       "  <thead>\n",
       "    <tr style=\"text-align: right;\">\n",
       "      <th></th>\n",
       "      <th>Доля (%)</th>\n",
       "    </tr>\n",
       "    <tr>\n",
       "      <th>genre</th>\n",
       "      <th></th>\n",
       "    </tr>\n",
       "  </thead>\n",
       "  <tbody>\n",
       "    <tr>\n",
       "      <th>Action</th>\n",
       "      <td>34.07</td>\n",
       "    </tr>\n",
       "    <tr>\n",
       "      <th>Role-Playing</th>\n",
       "      <td>28.50</td>\n",
       "    </tr>\n",
       "    <tr>\n",
       "      <th>Platform</th>\n",
       "      <td>12.99</td>\n",
       "    </tr>\n",
       "    <tr>\n",
       "      <th>Shooter</th>\n",
       "      <td>12.44</td>\n",
       "    </tr>\n",
       "    <tr>\n",
       "      <th>Simulation</th>\n",
       "      <td>12.00</td>\n",
       "    </tr>\n",
       "  </tbody>\n",
       "</table>\n",
       "</div>"
      ],
      "text/plain": [
       "              Доля (%)\n",
       "genre                 \n",
       "Action           34.07\n",
       "Role-Playing     28.50\n",
       "Platform         12.99\n",
       "Shooter          12.44\n",
       "Simulation       12.00"
      ]
     },
     "metadata": {},
     "output_type": "display_data"
    }
   ],
   "source": [
    "for region in regions:\n",
    "    print(f\"\\nТоп жанров в {region.upper()} (в долях):\")\n",
    "    genre_sales = actual_data.groupby('genre')[region].sum()\n",
    "    top5 = genre_sales.sort_values(ascending=False).head(5)\n",
    "    shares = top5 / top5.sum() * 100\n",
    "    display(shares.round(2).to_frame(name='Доля (%)'))"
   ]
  },
  {
   "cell_type": "markdown",
   "metadata": {},
   "source": [
    "###### Популярность жанров по регионам:\n",
    "\n",
    "- NA и EU: доминирует жанр Action (NA — 36.86%, EU — 39.97%), следом идут Shooter и Sports.\n",
    "\n",
    "- JP: заметное лидерство у RPG (28.50%), но Action тоже популярен (34.07%), далее — Platform, Shooter и Simulation.\n",
    "\n",
    "Вывод:\n",
    "\n",
    "- Западные рынки (NA и EU) отдают предпочтение активным и соревновательным жанрам — экшен, стрелялки, спорт.\n",
    "\n",
    "- Японский рынок тяготеет к сюжетным и атмосферным играм (RPG), но экшен здесь тоже очень популярен. Это отражает вкусы игроков и успех культовых серий вроде Final Fantasy, Dragon Quest и Monster Hunter."
   ]
  },
  {
   "cell_type": "code",
   "execution_count": 32,
   "metadata": {},
   "outputs": [
    {
     "name": "stdout",
     "output_type": "stream",
     "text": [
      "\n",
      "Доли продаж по рейтингу ESRB в NA_SALES:\n"
     ]
    },
    {
     "data": {
      "text/html": [
       "<div>\n",
       "<style scoped>\n",
       "    .dataframe tbody tr th:only-of-type {\n",
       "        vertical-align: middle;\n",
       "    }\n",
       "\n",
       "    .dataframe tbody tr th {\n",
       "        vertical-align: top;\n",
       "    }\n",
       "\n",
       "    .dataframe thead th {\n",
       "        text-align: right;\n",
       "    }\n",
       "</style>\n",
       "<table border=\"1\" class=\"dataframe\">\n",
       "  <thead>\n",
       "    <tr style=\"text-align: right;\">\n",
       "      <th></th>\n",
       "      <th>Доля (%)</th>\n",
       "    </tr>\n",
       "    <tr>\n",
       "      <th>rating</th>\n",
       "      <th></th>\n",
       "    </tr>\n",
       "  </thead>\n",
       "  <tbody>\n",
       "    <tr>\n",
       "      <th>M</th>\n",
       "      <td>49.84</td>\n",
       "    </tr>\n",
       "    <tr>\n",
       "      <th>E</th>\n",
       "      <td>22.72</td>\n",
       "    </tr>\n",
       "    <tr>\n",
       "      <th>T</th>\n",
       "      <td>14.04</td>\n",
       "    </tr>\n",
       "    <tr>\n",
       "      <th>E10+</th>\n",
       "      <td>13.41</td>\n",
       "    </tr>\n",
       "  </tbody>\n",
       "</table>\n",
       "</div>"
      ],
      "text/plain": [
       "        Доля (%)\n",
       "rating          \n",
       "M          49.84\n",
       "E          22.72\n",
       "T          14.04\n",
       "E10+       13.41"
      ]
     },
     "metadata": {},
     "output_type": "display_data"
    },
    {
     "name": "stdout",
     "output_type": "stream",
     "text": [
      "\n",
      "Доли продаж по рейтингу ESRB в EU_SALES:\n"
     ]
    },
    {
     "data": {
      "text/html": [
       "<div>\n",
       "<style scoped>\n",
       "    .dataframe tbody tr th:only-of-type {\n",
       "        vertical-align: middle;\n",
       "    }\n",
       "\n",
       "    .dataframe tbody tr th {\n",
       "        vertical-align: top;\n",
       "    }\n",
       "\n",
       "    .dataframe thead th {\n",
       "        text-align: right;\n",
       "    }\n",
       "</style>\n",
       "<table border=\"1\" class=\"dataframe\">\n",
       "  <thead>\n",
       "    <tr style=\"text-align: right;\">\n",
       "      <th></th>\n",
       "      <th>Доля (%)</th>\n",
       "    </tr>\n",
       "    <tr>\n",
       "      <th>rating</th>\n",
       "      <th></th>\n",
       "    </tr>\n",
       "  </thead>\n",
       "  <tbody>\n",
       "    <tr>\n",
       "      <th>M</th>\n",
       "      <td>49.29</td>\n",
       "    </tr>\n",
       "    <tr>\n",
       "      <th>E</th>\n",
       "      <td>26.17</td>\n",
       "    </tr>\n",
       "    <tr>\n",
       "      <th>T</th>\n",
       "      <td>13.37</td>\n",
       "    </tr>\n",
       "    <tr>\n",
       "      <th>E10+</th>\n",
       "      <td>11.17</td>\n",
       "    </tr>\n",
       "  </tbody>\n",
       "</table>\n",
       "</div>"
      ],
      "text/plain": [
       "        Доля (%)\n",
       "rating          \n",
       "M          49.29\n",
       "E          26.17\n",
       "T          13.37\n",
       "E10+       11.17"
      ]
     },
     "metadata": {},
     "output_type": "display_data"
    },
    {
     "name": "stdout",
     "output_type": "stream",
     "text": [
      "\n",
      "Доли продаж по рейтингу ESRB в JP_SALES:\n"
     ]
    },
    {
     "data": {
      "text/html": [
       "<div>\n",
       "<style scoped>\n",
       "    .dataframe tbody tr th:only-of-type {\n",
       "        vertical-align: middle;\n",
       "    }\n",
       "\n",
       "    .dataframe tbody tr th {\n",
       "        vertical-align: top;\n",
       "    }\n",
       "\n",
       "    .dataframe thead th {\n",
       "        text-align: right;\n",
       "    }\n",
       "</style>\n",
       "<table border=\"1\" class=\"dataframe\">\n",
       "  <thead>\n",
       "    <tr style=\"text-align: right;\">\n",
       "      <th></th>\n",
       "      <th>Доля (%)</th>\n",
       "    </tr>\n",
       "    <tr>\n",
       "      <th>rating</th>\n",
       "      <th></th>\n",
       "    </tr>\n",
       "  </thead>\n",
       "  <tbody>\n",
       "    <tr>\n",
       "      <th>E</th>\n",
       "      <td>34.94</td>\n",
       "    </tr>\n",
       "    <tr>\n",
       "      <th>T</th>\n",
       "      <td>28.51</td>\n",
       "    </tr>\n",
       "    <tr>\n",
       "      <th>M</th>\n",
       "      <td>26.11</td>\n",
       "    </tr>\n",
       "    <tr>\n",
       "      <th>E10+</th>\n",
       "      <td>10.45</td>\n",
       "    </tr>\n",
       "  </tbody>\n",
       "</table>\n",
       "</div>"
      ],
      "text/plain": [
       "        Доля (%)\n",
       "rating          \n",
       "E          34.94\n",
       "T          28.51\n",
       "M          26.11\n",
       "E10+       10.45"
      ]
     },
     "metadata": {},
     "output_type": "display_data"
    }
   ],
   "source": [
    "for region in regions:\n",
    "    print(f\"\\nДоли продаж по рейтингу ESRB в {region.upper()}:\")\n",
    "    rating_sales = actual_data.groupby('rating')[region].sum().sort_values(ascending=False)\n",
    "    rating_shares = rating_sales / rating_sales.sum() * 100\n",
    "    display(rating_shares.round(2).to_frame(name='Доля (%)'))"
   ]
  },
  {
   "cell_type": "markdown",
   "metadata": {},
   "source": [
    "###### Влияние рейтинга ESRB на продажи:\n",
    "\n",
    "\n",
    "- В регионах NA и EU наибольшие доли продаж приходятся на игры с рейтингом M (Mature):\n",
    "\n",
    "    - NA — 49.84%,\n",
    "\n",
    "    - EU — 49.29%.\n",
    "Это показывает, что в этих регионах востребованы игры с серьёзным и зачастую жестоким контентом, ориентированные на взрослую аудиторию.\n",
    "\n",
    "- В Японии (JP) структура спроса отличается:\n",
    "\n",
    "    - E (Everyone) — 34.94%,\n",
    "\n",
    "    - T (Teen) — 28.51%,\n",
    "\n",
    "    - M (Mature) — только 26.11%.\n",
    "        \n",
    "Здесь выше интерес к играм, подходящим для широкой аудитории — детям и подросткам, а не взрослым.\n",
    "\n",
    "Таким образом, влияние рейтинга ESRB на продажи зависит от региона:\n",
    "\n",
    "В NA и EU лидируют взрослые игры с рейтингом M.\n",
    "\n",
    "В JP больше покупают игры с рейтингами E и T, отражая предпочтение более мягкого контента."
   ]
  },
  {
   "cell_type": "markdown",
   "metadata": {},
   "source": [
    "###### Общий вывод:\n",
    "- Продажи игр и предпочтения игроков существенно различаются в зависимости от региона:\n",
    "\n",
    "- Игровые платформы, жанры и возрастной рейтинг — все это влияет на поведение аудитории.\n",
    "\n",
    "- Для маркетинга и планирования релизов важно учитывать локальные особенности: например, выпуск RPG на портативную консоль в Японии имеет больше шансов на успех, чем в Европе.\n",
    "\n"
   ]
  },
  {
   "cell_type": "markdown",
   "metadata": {},
   "source": [
    "# Шаг 5. Проверка гипотез"
   ]
  },
  {
   "cell_type": "markdown",
   "metadata": {},
   "source": [
    "Поскольку мы сравниваем средние значения двух независимых выборок, используем t-критерий Стьюдента (двухвыборочный t-test)."
   ]
  },
  {
   "cell_type": "markdown",
   "metadata": {},
   "source": [
    "###### Гипотеза 1: Средние пользовательские рейтинги платформ Xbox One и PC одинаковые\n",
    "\n",
    "- Нулевая гипотеза (H₀):\n",
    "Средние пользовательские рейтинги платформ Xbox One и PC одинаковы.\n",
    "\n",
    "- Альтернативная гипотеза (H₁):\n",
    "Средние пользовательские рейтинги платформ Xbox One и PC различаются."
   ]
  },
  {
   "cell_type": "code",
   "execution_count": 33,
   "metadata": {},
   "outputs": [],
   "source": [
    "alpha = 0.05"
   ]
  },
  {
   "cell_type": "code",
   "execution_count": 34,
   "metadata": {},
   "outputs": [
    {
     "name": "stdout",
     "output_type": "stream",
     "text": [
      "p-значение: 0.7558252622630994\n",
      "Не удалось отвергнуть нулевую гипотезу: средние равны\n"
     ]
    }
   ],
   "source": [
    "xone = actual_data.query('platform == \"XOne\"')['user_score'].dropna()\n",
    "pc = actual_data.query('platform == \"PC\"')['user_score'].dropna()\n",
    "result = stats.ttest_ind(xone, pc, equal_var=False)\n",
    "\n",
    "print('p-значение:', result.pvalue)\n",
    "if result.pvalue < alpha:\n",
    "    print('Отвергаем нулевую гипотезу: средние различаются')\n",
    "else:\n",
    "    print('Не удалось отвергнуть нулевую гипотезу: средние равны')"
   ]
  },
  {
   "cell_type": "markdown",
   "metadata": {},
   "source": [
    "###### Гипотеза 2: Средние пользовательские рейтинги жанров Action и Sports разные\n",
    "- Нулевая гипотеза (H₀):\n",
    "Средние пользовательские рейтинги жанров Action и Sports одинаковы.\n",
    "-  Альтернативная гипотеза (H₁):\n",
    "Средние пользовательские рейтинги жанров Action и Sports разные.\n",
    "\n"
   ]
  },
  {
   "cell_type": "code",
   "execution_count": 35,
   "metadata": {},
   "outputs": [
    {
     "name": "stdout",
     "output_type": "stream",
     "text": [
      "p-значение: 1.0976641199457688e-11\n",
      "Отвергаем нулевую гипотезу: средние различаются\n"
     ]
    }
   ],
   "source": [
    "action = actual_data.query('genre == \"Action\"')['user_score'].dropna()\n",
    "sports = actual_data.query('genre == \"Sports\"')['user_score'].dropna()\n",
    "result2 = stats.ttest_ind(action, sports, equal_var=False)\n",
    "\n",
    "print('p-значение:', result2.pvalue)\n",
    "if result2.pvalue < alpha:\n",
    "    print('Отвергаем нулевую гипотезу: средние различаются')\n",
    "else:\n",
    "    print('Не удалось отвергнуть нулевую гипотезу: средние равны')"
   ]
  },
  {
   "cell_type": "markdown",
   "metadata": {},
   "source": [
    "# Шаг 6. Общий вывод"
   ]
  },
  {
   "cell_type": "markdown",
   "metadata": {},
   "source": [
    "### Итоговый вывод\n",
    "\n",
    "В ходе исследования были проанализированы данные о продажах видеоигр по ключевым регионам: **Северная Америка (NA)**, **Европа (EU)** и **Япония (JP)** за актуальный период.\n",
    "\n",
    "**Целью исследования было определить закономерности, влияющие на успешность игр. Это поможет интернет-магазину сделать ставку на потенциально популярные продукты и спланировать рекламные кампании на 2017 год.**\n",
    "\n",
    "---\n",
    "\n",
    "### Основные выводы\n",
    "\n",
    "- **Северная Америка** является самым перспективным регионом: здесь наблюдаются наивысшие объёмы продаж. **Европа** также демонстрирует высокие результаты, в то время как **Япония** показывает значительно меньшие объёмы, что связано с региональными предпочтениями и спецификой рынка.\n",
    "\n",
    "---\n",
    "\n",
    "### Платформы-лидеры по регионам\n",
    "\n",
    "- Северная Америка (NA)\n",
    "В регионе NA лидирует Xbox 360 с долей 28.5%, за ней идут PS4 (22.5%) и PS3 (20.6%). Платформы от Microsoft здесь доминируют, что говорит о сильной популярности Xbox среди североамериканских геймеров.\n",
    "\n",
    "- Европа (EU)\n",
    "В Европе заметно лидирует PS4 — 34.9%, с большим отрывом от PS3 (24.4%) и Xbox 360 (17.8%). Консоли от Sony пользуются здесь большей популярностью, чем в NA.\n",
    "\n",
    "- Япония (JP)\n",
    "В Японии всё иначе: абсолютный лидер — 3DS с долей 36.2%, что отражает предпочтение японских игроков к портативным консолям. Также высока доля PS3 (27.6%) и WiiU (13.9%), что говорит о популярности местных брендов.\n",
    "\n",
    "> Необходима региональная адаптация платформенной стратегии: **консоли в NA/EU**, **портативные устройства в JP**.\n",
    "\n",
    "---\n",
    "\n",
    "### Жанровые предпочтения\n",
    "\n",
    "- Северная Америка (NA)\n",
    "Жанры с наибольшими продажами: Action (36.9%) и Shooter (30.6%). Это подчёркивает интерес американской аудитории к динамичным и соревновательным играм. Sports занимает третье место (17.4%).\n",
    "\n",
    "- Европа (EU)\n",
    "Ситуация схожа: Action — 40%, Shooter — 28%, Sports — 16.6%. Геймеры Европы демонстрируют похожие вкусы с NA, но Action тут даже более популярен.\n",
    "\n",
    "- Япония (JP)\n",
    "В Японии Role-Playing (28.5%) почти догоняет Action (34.1%). Это подчёркивает любовь японской аудитории к сюжетным и ролевым играм. Жанры Platform и Simulation тоже входят в топ.\n",
    "\n",
    "> Западные рынки предпочитают активные и соревновательные жанры,  \n",
    "> Японский рынок ориентирован на сюжетные и локальные предпочтения (RPG, Platform).\n",
    "\n",
    "---\n",
    "\n",
    "### ESRB-рейтинг и его влияние\n",
    "\n",
    "- В **NA**:\n",
    "  - **M (17+)** — **49.8%** продаж\n",
    "  - **E (Everyone)** — **22.7%**\n",
    "- В **EU**:\n",
    "  - **M** — **49.3%**, **E** — **26.2%**\n",
    "- В **JP**:\n",
    "  - **E** — **34.9%**\n",
    "  - **T (Teen)** — **28.5%**\n",
    "  - **M** — **26.1%**\n",
    "\n",
    "> В NA и EU спрос высок на **взрослый контент (M)**.  \n",
    "> В JP — более сбалансированное распределение, с акцентом на **нейтральные и подростковые** игры.\n",
    "\n",
    "---\n",
    "\n",
    "### Проверка гипотез\n",
    "\n",
    "- **Платформы Xbox One и PC**:\n",
    "  - Средние пользовательские оценки **не различаются статистически**\n",
    "  - p-value > 0.05\n",
    "- **Жанры Action и Sports**:\n",
    "  - Статистически значимая разница в пользовательских оценках\n",
    "  - p-value < 0.05\n",
    "\n",
    "> Игроки одинаково оценивают игры на Xbox One и PC,  \n",
    "> но имеют разные ожидания от Action и Sports жанров.\n",
    "\n",
    "---\n",
    "\n",
    "### Рекомендации\n",
    "\n",
    "- Учитывать **региональную специфику**:\n",
    "  - **NA/EU** — делать ставку на **Action** и **Shooter** на **PS4/XOne**\n",
    "  - **JP** — ориентироваться на **RPG** и **портативные платформы**\n",
    "- При выборе игр для продвижения в NA и EU — не избегать **рейтинга M**, он не мешает продажам.\n",
    "- Сохранять данные с пропущенными рейтингами, присваивая им значение **\"unknown\"** — это позволяет учесть все релевантные игры в анализе, особенно для JP, где ESRB не всегда применяется.\n",
    "\n",
    "---\n",
    "\n",
    "**Общий вывод:**  \n",
    "Успешное продвижение игр требует детального учёта региональных различий по платформам, жанрам и возрастным рейтингам. Северная Америка остаётся ключевым рынком с самыми высокими продажами и предпочтением к зрелым жанрам. Япония требует индивидуального подхода, с акцентом на локальные предпочтения и специфические платформы.\n"
   ]
  }
 ],
 "metadata": {
  "ExecuteTimeLog": [
   {
    "duration": 379,
    "start_time": "2025-07-15T05:35:05.690Z"
   },
   {
    "duration": 65,
    "start_time": "2025-07-15T05:38:14.133Z"
   },
   {
    "duration": 53,
    "start_time": "2025-07-15T05:42:14.411Z"
   },
   {
    "duration": 58,
    "start_time": "2025-07-15T05:42:26.912Z"
   },
   {
    "duration": 4,
    "start_time": "2025-07-15T05:43:22.469Z"
   },
   {
    "duration": 22,
    "start_time": "2025-07-15T05:43:30.771Z"
   },
   {
    "duration": 34,
    "start_time": "2025-07-15T05:46:00.908Z"
   },
   {
    "duration": 31,
    "start_time": "2025-07-15T05:55:03.556Z"
   },
   {
    "duration": 12,
    "start_time": "2025-07-15T06:00:51.022Z"
   },
   {
    "duration": 15,
    "start_time": "2025-07-15T06:01:52.964Z"
   },
   {
    "duration": 4,
    "start_time": "2025-07-15T06:21:52.635Z"
   },
   {
    "duration": 22,
    "start_time": "2025-07-15T06:21:56.532Z"
   },
   {
    "duration": 3,
    "start_time": "2025-07-15T06:22:03.256Z"
   },
   {
    "duration": 5,
    "start_time": "2025-07-15T06:22:14.620Z"
   },
   {
    "duration": 3,
    "start_time": "2025-07-15T06:22:51.606Z"
   },
   {
    "duration": 63,
    "start_time": "2025-07-15T06:28:13.605Z"
   },
   {
    "duration": 19,
    "start_time": "2025-07-15T06:28:26.612Z"
   },
   {
    "duration": 15,
    "start_time": "2025-07-15T06:28:31.634Z"
   },
   {
    "duration": 15,
    "start_time": "2025-07-15T06:28:49.432Z"
   },
   {
    "duration": 9,
    "start_time": "2025-07-15T06:28:57.502Z"
   },
   {
    "duration": 1411,
    "start_time": "2025-07-15T06:29:58.100Z"
   },
   {
    "duration": 1313,
    "start_time": "2025-07-15T06:30:00.749Z"
   },
   {
    "duration": 6,
    "start_time": "2025-07-15T06:30:08.944Z"
   },
   {
    "duration": 5,
    "start_time": "2025-07-15T06:32:00.229Z"
   },
   {
    "duration": 2,
    "start_time": "2025-07-15T06:38:57.502Z"
   },
   {
    "duration": 16,
    "start_time": "2025-07-15T06:40:46.253Z"
   },
   {
    "duration": 5,
    "start_time": "2025-07-15T06:40:47.780Z"
   },
   {
    "duration": 5,
    "start_time": "2025-07-15T06:41:39.657Z"
   },
   {
    "duration": 8,
    "start_time": "2025-07-15T06:41:49.175Z"
   },
   {
    "duration": 4,
    "start_time": "2025-07-15T06:41:57.786Z"
   },
   {
    "duration": 7,
    "start_time": "2025-07-15T06:48:03.677Z"
   },
   {
    "duration": 5,
    "start_time": "2025-07-15T06:48:37.447Z"
   },
   {
    "duration": 17,
    "start_time": "2025-07-15T06:50:29.949Z"
   },
   {
    "duration": 6,
    "start_time": "2025-07-15T06:51:34.886Z"
   },
   {
    "duration": 6,
    "start_time": "2025-07-15T06:51:41.321Z"
   },
   {
    "duration": 4,
    "start_time": "2025-07-15T06:52:03.933Z"
   },
   {
    "duration": 9,
    "start_time": "2025-07-15T06:59:06.219Z"
   },
   {
    "duration": 16,
    "start_time": "2025-07-15T07:03:53.493Z"
   },
   {
    "duration": 11,
    "start_time": "2025-07-15T07:03:57.520Z"
   },
   {
    "duration": 5,
    "start_time": "2025-07-15T07:11:39.356Z"
   },
   {
    "duration": 5,
    "start_time": "2025-07-15T07:12:10.221Z"
   },
   {
    "duration": 22,
    "start_time": "2025-07-15T07:12:25.563Z"
   },
   {
    "duration": 4,
    "start_time": "2025-07-15T07:12:46.206Z"
   },
   {
    "duration": 4,
    "start_time": "2025-07-15T07:13:21.182Z"
   },
   {
    "duration": 1375,
    "start_time": "2025-07-15T07:19:08.535Z"
   },
   {
    "duration": 1471,
    "start_time": "2025-07-15T07:19:12.771Z"
   },
   {
    "duration": 8,
    "start_time": "2025-07-15T07:19:24.877Z"
   },
   {
    "duration": 6,
    "start_time": "2025-07-15T07:19:27.226Z"
   },
   {
    "duration": 6,
    "start_time": "2025-07-15T07:19:45.463Z"
   },
   {
    "duration": 8,
    "start_time": "2025-07-15T07:20:09.358Z"
   },
   {
    "duration": 7,
    "start_time": "2025-07-15T07:24:59.295Z"
   },
   {
    "duration": 10,
    "start_time": "2025-07-15T07:25:16.175Z"
   },
   {
    "duration": 8,
    "start_time": "2025-07-15T07:25:19.124Z"
   },
   {
    "duration": 438,
    "start_time": "2025-07-15T07:26:32.907Z"
   },
   {
    "duration": 360,
    "start_time": "2025-07-15T07:26:56.067Z"
   },
   {
    "duration": 11,
    "start_time": "2025-07-15T07:36:31.560Z"
   },
   {
    "duration": 22,
    "start_time": "2025-07-15T07:36:39.294Z"
   },
   {
    "duration": 12,
    "start_time": "2025-07-15T07:36:47.699Z"
   },
   {
    "duration": 23,
    "start_time": "2025-07-15T07:36:58.374Z"
   },
   {
    "duration": 56,
    "start_time": "2025-07-15T08:48:59.246Z"
   },
   {
    "duration": 6,
    "start_time": "2025-07-15T08:49:04.397Z"
   },
   {
    "duration": 845,
    "start_time": "2025-07-15T08:49:10.809Z"
   },
   {
    "duration": 81,
    "start_time": "2025-07-15T08:49:11.656Z"
   },
   {
    "duration": 4,
    "start_time": "2025-07-15T08:49:11.739Z"
   },
   {
    "duration": 42,
    "start_time": "2025-07-15T08:49:11.745Z"
   },
   {
    "duration": 12,
    "start_time": "2025-07-15T08:49:11.789Z"
   },
   {
    "duration": 6,
    "start_time": "2025-07-15T08:49:11.802Z"
   },
   {
    "duration": 18,
    "start_time": "2025-07-15T08:49:11.810Z"
   },
   {
    "duration": 30,
    "start_time": "2025-07-15T08:49:11.829Z"
   },
   {
    "duration": 21,
    "start_time": "2025-07-15T08:49:11.861Z"
   },
   {
    "duration": 11,
    "start_time": "2025-07-15T08:49:11.885Z"
   },
   {
    "duration": 10,
    "start_time": "2025-07-15T08:49:11.897Z"
   },
   {
    "duration": 4,
    "start_time": "2025-07-15T08:49:11.909Z"
   },
   {
    "duration": 18,
    "start_time": "2025-07-15T08:49:11.914Z"
   },
   {
    "duration": 419,
    "start_time": "2025-07-15T08:49:11.934Z"
   },
   {
    "duration": 93,
    "start_time": "2025-07-15T08:49:12.355Z"
   },
   {
    "duration": 19,
    "start_time": "2025-07-15T08:49:29.339Z"
   },
   {
    "duration": 28,
    "start_time": "2025-07-15T08:50:09.449Z"
   },
   {
    "duration": 5,
    "start_time": "2025-07-15T09:03:08.250Z"
   },
   {
    "duration": 9,
    "start_time": "2025-07-15T09:03:18.635Z"
   },
   {
    "duration": 5,
    "start_time": "2025-07-15T09:03:39.144Z"
   },
   {
    "duration": 5,
    "start_time": "2025-07-15T09:03:48.889Z"
   },
   {
    "duration": 4,
    "start_time": "2025-07-15T09:03:49.543Z"
   },
   {
    "duration": 8,
    "start_time": "2025-07-15T09:04:03.552Z"
   },
   {
    "duration": 3,
    "start_time": "2025-07-15T09:04:29.164Z"
   },
   {
    "duration": 4,
    "start_time": "2025-07-15T09:04:34.728Z"
   },
   {
    "duration": 8,
    "start_time": "2025-07-15T09:04:58.116Z"
   },
   {
    "duration": 8,
    "start_time": "2025-07-15T09:05:07.854Z"
   },
   {
    "duration": 6,
    "start_time": "2025-07-15T09:09:52.579Z"
   },
   {
    "duration": 25,
    "start_time": "2025-07-15T09:10:00.033Z"
   },
   {
    "duration": 26,
    "start_time": "2025-07-15T09:11:25.489Z"
   },
   {
    "duration": 15,
    "start_time": "2025-07-15T09:12:35.236Z"
   },
   {
    "duration": 20,
    "start_time": "2025-07-15T09:12:39.515Z"
   },
   {
    "duration": 17,
    "start_time": "2025-07-15T09:13:44.789Z"
   },
   {
    "duration": 20,
    "start_time": "2025-07-15T09:13:49.403Z"
   },
   {
    "duration": 518,
    "start_time": "2025-07-15T09:14:59.084Z"
   },
   {
    "duration": 285,
    "start_time": "2025-07-15T09:15:14.124Z"
   },
   {
    "duration": 9,
    "start_time": "2025-07-15T09:52:14.496Z"
   },
   {
    "duration": 10,
    "start_time": "2025-07-15T09:52:23.289Z"
   },
   {
    "duration": 41,
    "start_time": "2025-07-15T09:52:28.082Z"
   },
   {
    "duration": 10,
    "start_time": "2025-07-15T10:23:26.644Z"
   },
   {
    "duration": 284,
    "start_time": "2025-07-15T10:26:50.413Z"
   },
   {
    "duration": 210,
    "start_time": "2025-07-15T10:27:09.906Z"
   },
   {
    "duration": 6,
    "start_time": "2025-07-15T10:29:24.088Z"
   },
   {
    "duration": 1479,
    "start_time": "2025-07-16T06:01:20.052Z"
   },
   {
    "duration": 79,
    "start_time": "2025-07-16T06:01:21.533Z"
   },
   {
    "duration": 4,
    "start_time": "2025-07-16T06:01:21.614Z"
   },
   {
    "duration": 19,
    "start_time": "2025-07-16T06:01:21.620Z"
   },
   {
    "duration": 70,
    "start_time": "2025-07-16T06:01:21.641Z"
   },
   {
    "duration": 144,
    "start_time": "2025-07-16T06:01:21.713Z"
   },
   {
    "duration": 20,
    "start_time": "2025-07-16T06:01:21.859Z"
   },
   {
    "duration": 6,
    "start_time": "2025-07-16T06:01:21.881Z"
   },
   {
    "duration": 6,
    "start_time": "2025-07-16T06:01:21.889Z"
   },
   {
    "duration": 14,
    "start_time": "2025-07-16T06:01:21.898Z"
   },
   {
    "duration": 9,
    "start_time": "2025-07-16T06:01:21.914Z"
   },
   {
    "duration": 32,
    "start_time": "2025-07-16T06:01:21.925Z"
   },
   {
    "duration": 30,
    "start_time": "2025-07-16T06:01:21.959Z"
   },
   {
    "duration": 374,
    "start_time": "2025-07-16T06:01:21.991Z"
   },
   {
    "duration": 8,
    "start_time": "2025-07-16T06:01:22.367Z"
   },
   {
    "duration": 67,
    "start_time": "2025-07-16T06:01:22.377Z"
   },
   {
    "duration": 315,
    "start_time": "2025-07-16T06:01:22.446Z"
   },
   {
    "duration": 7,
    "start_time": "2025-07-16T06:01:22.763Z"
   },
   {
    "duration": 25,
    "start_time": "2025-07-16T06:01:22.771Z"
   },
   {
    "duration": 203,
    "start_time": "2025-07-16T06:01:22.798Z"
   },
   {
    "duration": 6,
    "start_time": "2025-07-16T06:02:43.009Z"
   },
   {
    "duration": 28,
    "start_time": "2025-07-16T06:02:46.249Z"
   },
   {
    "duration": 5,
    "start_time": "2025-07-16T06:05:49.821Z"
   },
   {
    "duration": 95,
    "start_time": "2025-07-16T06:06:48.469Z"
   },
   {
    "duration": 159,
    "start_time": "2025-07-16T06:06:58.275Z"
   },
   {
    "duration": 112,
    "start_time": "2025-07-16T06:07:26.660Z"
   },
   {
    "duration": 5,
    "start_time": "2025-07-16T06:07:42.291Z"
   },
   {
    "duration": 159,
    "start_time": "2025-07-16T06:08:33.666Z"
   },
   {
    "duration": 174,
    "start_time": "2025-07-16T06:09:00.762Z"
   },
   {
    "duration": 52,
    "start_time": "2025-07-18T05:03:46.836Z"
   },
   {
    "duration": 1443,
    "start_time": "2025-07-18T05:03:51.380Z"
   },
   {
    "duration": 75,
    "start_time": "2025-07-18T05:03:52.825Z"
   },
   {
    "duration": 4,
    "start_time": "2025-07-18T05:03:52.902Z"
   },
   {
    "duration": 35,
    "start_time": "2025-07-18T05:03:52.908Z"
   },
   {
    "duration": 15,
    "start_time": "2025-07-18T05:03:52.945Z"
   },
   {
    "duration": 3,
    "start_time": "2025-07-18T05:03:52.962Z"
   },
   {
    "duration": 19,
    "start_time": "2025-07-18T05:03:52.967Z"
   },
   {
    "duration": 5,
    "start_time": "2025-07-18T05:03:52.988Z"
   },
   {
    "duration": 9,
    "start_time": "2025-07-18T05:03:52.994Z"
   },
   {
    "duration": 7,
    "start_time": "2025-07-18T05:03:53.006Z"
   },
   {
    "duration": 8,
    "start_time": "2025-07-18T05:03:53.015Z"
   },
   {
    "duration": 4,
    "start_time": "2025-07-18T05:03:53.025Z"
   },
   {
    "duration": 9,
    "start_time": "2025-07-18T05:03:53.061Z"
   },
   {
    "duration": 389,
    "start_time": "2025-07-18T05:03:53.071Z"
   },
   {
    "duration": 8,
    "start_time": "2025-07-18T05:03:53.462Z"
   },
   {
    "duration": 9,
    "start_time": "2025-07-18T05:03:53.471Z"
   },
   {
    "duration": 364,
    "start_time": "2025-07-18T05:03:53.481Z"
   },
   {
    "duration": 6,
    "start_time": "2025-07-18T05:03:53.847Z"
   },
   {
    "duration": 8,
    "start_time": "2025-07-18T05:03:53.855Z"
   },
   {
    "duration": 218,
    "start_time": "2025-07-18T05:03:53.864Z"
   },
   {
    "duration": 5,
    "start_time": "2025-07-18T05:03:54.084Z"
   },
   {
    "duration": 244,
    "start_time": "2025-07-18T05:03:54.091Z"
   },
   {
    "duration": 187,
    "start_time": "2025-07-18T05:03:54.336Z"
   },
   {
    "duration": 6,
    "start_time": "2025-07-18T05:03:54.525Z"
   },
   {
    "duration": 7,
    "start_time": "2025-07-18T05:07:57.659Z"
   },
   {
    "duration": 8,
    "start_time": "2025-07-18T05:08:08.661Z"
   },
   {
    "duration": 7,
    "start_time": "2025-07-18T05:10:41.048Z"
   },
   {
    "duration": 393,
    "start_time": "2025-07-18T05:10:53.118Z"
   },
   {
    "duration": 342,
    "start_time": "2025-07-18T05:11:25.873Z"
   },
   {
    "duration": 419,
    "start_time": "2025-07-18T05:11:39.753Z"
   },
   {
    "duration": 199,
    "start_time": "2025-07-18T05:12:15.898Z"
   },
   {
    "duration": 358,
    "start_time": "2025-07-18T05:12:19.394Z"
   },
   {
    "duration": 17,
    "start_time": "2025-07-18T05:24:18.517Z"
   },
   {
    "duration": 16,
    "start_time": "2025-07-18T05:25:22.285Z"
   },
   {
    "duration": 16,
    "start_time": "2025-07-18T05:25:40.890Z"
   },
   {
    "duration": 30,
    "start_time": "2025-07-18T05:35:23.188Z"
   },
   {
    "duration": 29,
    "start_time": "2025-07-18T05:36:06.824Z"
   },
   {
    "duration": 30,
    "start_time": "2025-07-18T05:39:48.960Z"
   },
   {
    "duration": 3,
    "start_time": "2025-07-18T05:52:29.598Z"
   },
   {
    "duration": 31,
    "start_time": "2025-07-18T05:52:34.971Z"
   },
   {
    "duration": 36,
    "start_time": "2025-07-18T05:52:42.106Z"
   },
   {
    "duration": 3,
    "start_time": "2025-07-18T05:53:39.220Z"
   },
   {
    "duration": 26,
    "start_time": "2025-07-18T05:53:40.053Z"
   },
   {
    "duration": 26,
    "start_time": "2025-07-18T05:53:42.000Z"
   },
   {
    "duration": 27,
    "start_time": "2025-07-18T05:54:02.468Z"
   },
   {
    "duration": 25,
    "start_time": "2025-07-18T05:55:29.070Z"
   },
   {
    "duration": 354,
    "start_time": "2025-07-18T06:04:31.621Z"
   },
   {
    "duration": 336,
    "start_time": "2025-07-18T06:04:35.442Z"
   },
   {
    "duration": 392,
    "start_time": "2025-07-18T06:04:44.087Z"
   },
   {
    "duration": 378,
    "start_time": "2025-07-18T06:04:50.178Z"
   },
   {
    "duration": 26,
    "start_time": "2025-07-18T06:07:07.189Z"
   },
   {
    "duration": 110,
    "start_time": "2025-07-18T06:14:06.862Z"
   },
   {
    "duration": 4,
    "start_time": "2025-07-18T06:14:37.270Z"
   },
   {
    "duration": 117,
    "start_time": "2025-07-18T06:15:18.890Z"
   },
   {
    "duration": 11,
    "start_time": "2025-07-18T06:15:29.996Z"
   },
   {
    "duration": 12,
    "start_time": "2025-07-18T06:15:42.181Z"
   },
   {
    "duration": 10,
    "start_time": "2025-07-18T06:16:56.211Z"
   },
   {
    "duration": 11,
    "start_time": "2025-07-18T06:17:02.505Z"
   },
   {
    "duration": 3,
    "start_time": "2025-07-18T06:19:22.611Z"
   },
   {
    "duration": 12,
    "start_time": "2025-07-18T06:19:26.010Z"
   },
   {
    "duration": 89,
    "start_time": "2025-07-18T06:24:27.594Z"
   },
   {
    "duration": 1473,
    "start_time": "2025-07-18T07:13:33.726Z"
   },
   {
    "duration": 77,
    "start_time": "2025-07-18T07:13:35.201Z"
   },
   {
    "duration": 4,
    "start_time": "2025-07-18T07:13:35.280Z"
   },
   {
    "duration": 41,
    "start_time": "2025-07-18T07:13:35.286Z"
   },
   {
    "duration": 18,
    "start_time": "2025-07-18T07:13:35.328Z"
   },
   {
    "duration": 14,
    "start_time": "2025-07-18T07:13:35.348Z"
   },
   {
    "duration": 48,
    "start_time": "2025-07-18T07:13:35.364Z"
   },
   {
    "duration": 12,
    "start_time": "2025-07-18T07:13:35.413Z"
   },
   {
    "duration": 6,
    "start_time": "2025-07-18T07:13:35.426Z"
   },
   {
    "duration": 7,
    "start_time": "2025-07-18T07:13:35.434Z"
   },
   {
    "duration": 10,
    "start_time": "2025-07-18T07:13:35.443Z"
   },
   {
    "duration": 7,
    "start_time": "2025-07-18T07:13:35.455Z"
   },
   {
    "duration": 10,
    "start_time": "2025-07-18T07:13:35.463Z"
   },
   {
    "duration": 422,
    "start_time": "2025-07-18T07:13:35.475Z"
   },
   {
    "duration": 8,
    "start_time": "2025-07-18T07:13:35.898Z"
   },
   {
    "duration": 29,
    "start_time": "2025-07-18T07:13:35.907Z"
   },
   {
    "duration": 447,
    "start_time": "2025-07-18T07:13:35.937Z"
   },
   {
    "duration": 7,
    "start_time": "2025-07-18T07:13:36.386Z"
   },
   {
    "duration": 49,
    "start_time": "2025-07-18T07:13:36.395Z"
   },
   {
    "duration": 234,
    "start_time": "2025-07-18T07:13:36.445Z"
   },
   {
    "duration": 7,
    "start_time": "2025-07-18T07:13:36.681Z"
   },
   {
    "duration": 207,
    "start_time": "2025-07-18T07:13:36.690Z"
   },
   {
    "duration": 179,
    "start_time": "2025-07-18T07:13:36.898Z"
   },
   {
    "duration": 12,
    "start_time": "2025-07-18T07:13:37.079Z"
   },
   {
    "duration": 39,
    "start_time": "2025-07-18T07:13:37.093Z"
   },
   {
    "duration": 397,
    "start_time": "2025-07-18T07:13:37.133Z"
   },
   {
    "duration": 7,
    "start_time": "2025-07-18T07:13:37.532Z"
   },
   {
    "duration": 53,
    "start_time": "2025-07-18T07:13:37.543Z"
   },
   {
    "duration": 46,
    "start_time": "2025-07-18T07:13:37.599Z"
   },
   {
    "duration": 40,
    "start_time": "2025-07-18T07:13:37.647Z"
   },
   {
    "duration": 3,
    "start_time": "2025-07-18T07:13:37.689Z"
   },
   {
    "duration": 39,
    "start_time": "2025-07-18T07:13:37.694Z"
   },
   {
    "duration": 37,
    "start_time": "2025-07-18T07:13:37.735Z"
   },
   {
    "duration": 50,
    "start_time": "2025-07-18T09:03:33.122Z"
   },
   {
    "duration": 9,
    "start_time": "2025-07-18T09:03:37.945Z"
   },
   {
    "duration": 1425,
    "start_time": "2025-07-18T09:03:48.159Z"
   },
   {
    "duration": 75,
    "start_time": "2025-07-18T09:03:49.586Z"
   },
   {
    "duration": 4,
    "start_time": "2025-07-18T09:03:49.663Z"
   },
   {
    "duration": 47,
    "start_time": "2025-07-18T09:03:49.668Z"
   },
   {
    "duration": 143,
    "start_time": "2025-07-18T09:03:49.717Z"
   },
   {
    "duration": 0,
    "start_time": "2025-07-18T09:03:49.862Z"
   },
   {
    "duration": 0,
    "start_time": "2025-07-18T09:03:49.863Z"
   },
   {
    "duration": 0,
    "start_time": "2025-07-18T09:03:49.864Z"
   },
   {
    "duration": 0,
    "start_time": "2025-07-18T09:03:49.866Z"
   },
   {
    "duration": 0,
    "start_time": "2025-07-18T09:03:49.867Z"
   },
   {
    "duration": 0,
    "start_time": "2025-07-18T09:03:49.868Z"
   },
   {
    "duration": 0,
    "start_time": "2025-07-18T09:03:49.869Z"
   },
   {
    "duration": 0,
    "start_time": "2025-07-18T09:03:49.870Z"
   },
   {
    "duration": 0,
    "start_time": "2025-07-18T09:03:49.871Z"
   },
   {
    "duration": 0,
    "start_time": "2025-07-18T09:03:49.872Z"
   },
   {
    "duration": 0,
    "start_time": "2025-07-18T09:03:49.873Z"
   },
   {
    "duration": 0,
    "start_time": "2025-07-18T09:03:49.874Z"
   },
   {
    "duration": 0,
    "start_time": "2025-07-18T09:03:49.874Z"
   },
   {
    "duration": 0,
    "start_time": "2025-07-18T09:03:49.875Z"
   },
   {
    "duration": 0,
    "start_time": "2025-07-18T09:03:49.876Z"
   },
   {
    "duration": 0,
    "start_time": "2025-07-18T09:03:49.878Z"
   },
   {
    "duration": 1,
    "start_time": "2025-07-18T09:03:49.878Z"
   },
   {
    "duration": 0,
    "start_time": "2025-07-18T09:03:49.879Z"
   },
   {
    "duration": 0,
    "start_time": "2025-07-18T09:03:49.881Z"
   },
   {
    "duration": 0,
    "start_time": "2025-07-18T09:03:49.882Z"
   },
   {
    "duration": 0,
    "start_time": "2025-07-18T09:03:49.884Z"
   },
   {
    "duration": 0,
    "start_time": "2025-07-18T09:03:49.885Z"
   },
   {
    "duration": 0,
    "start_time": "2025-07-18T09:03:49.886Z"
   },
   {
    "duration": 0,
    "start_time": "2025-07-18T09:03:49.888Z"
   },
   {
    "duration": 0,
    "start_time": "2025-07-18T09:03:49.890Z"
   },
   {
    "duration": 0,
    "start_time": "2025-07-18T09:03:49.891Z"
   },
   {
    "duration": 1,
    "start_time": "2025-07-18T09:03:49.892Z"
   },
   {
    "duration": 0,
    "start_time": "2025-07-18T09:03:49.894Z"
   },
   {
    "duration": 10,
    "start_time": "2025-07-18T09:04:01.479Z"
   },
   {
    "duration": 17,
    "start_time": "2025-07-18T09:04:06.368Z"
   },
   {
    "duration": 54,
    "start_time": "2025-07-18T09:04:41.794Z"
   },
   {
    "duration": 15,
    "start_time": "2025-07-18T09:06:00.267Z"
   },
   {
    "duration": 15,
    "start_time": "2025-07-18T09:06:08.013Z"
   },
   {
    "duration": 86,
    "start_time": "2025-07-18T09:06:51.751Z"
   },
   {
    "duration": 14,
    "start_time": "2025-07-18T09:08:41.161Z"
   },
   {
    "duration": 1241,
    "start_time": "2025-07-18T09:11:19.170Z"
   },
   {
    "duration": 75,
    "start_time": "2025-07-18T09:11:20.413Z"
   },
   {
    "duration": 5,
    "start_time": "2025-07-18T09:11:20.490Z"
   },
   {
    "duration": 26,
    "start_time": "2025-07-18T09:11:20.498Z"
   },
   {
    "duration": 125,
    "start_time": "2025-07-18T09:11:20.526Z"
   },
   {
    "duration": 0,
    "start_time": "2025-07-18T09:11:20.654Z"
   },
   {
    "duration": 0,
    "start_time": "2025-07-18T09:11:20.655Z"
   },
   {
    "duration": 0,
    "start_time": "2025-07-18T09:11:20.656Z"
   },
   {
    "duration": 0,
    "start_time": "2025-07-18T09:11:20.662Z"
   },
   {
    "duration": 0,
    "start_time": "2025-07-18T09:11:20.664Z"
   },
   {
    "duration": 0,
    "start_time": "2025-07-18T09:11:20.665Z"
   },
   {
    "duration": 0,
    "start_time": "2025-07-18T09:11:20.667Z"
   },
   {
    "duration": 0,
    "start_time": "2025-07-18T09:11:20.668Z"
   },
   {
    "duration": 0,
    "start_time": "2025-07-18T09:11:20.670Z"
   },
   {
    "duration": 0,
    "start_time": "2025-07-18T09:11:20.672Z"
   },
   {
    "duration": 0,
    "start_time": "2025-07-18T09:11:20.673Z"
   },
   {
    "duration": 0,
    "start_time": "2025-07-18T09:11:20.674Z"
   },
   {
    "duration": 0,
    "start_time": "2025-07-18T09:11:20.676Z"
   },
   {
    "duration": 0,
    "start_time": "2025-07-18T09:11:20.678Z"
   },
   {
    "duration": 0,
    "start_time": "2025-07-18T09:11:20.680Z"
   },
   {
    "duration": 0,
    "start_time": "2025-07-18T09:11:20.681Z"
   },
   {
    "duration": 0,
    "start_time": "2025-07-18T09:11:20.683Z"
   },
   {
    "duration": 0,
    "start_time": "2025-07-18T09:11:20.684Z"
   },
   {
    "duration": 0,
    "start_time": "2025-07-18T09:11:20.685Z"
   },
   {
    "duration": 0,
    "start_time": "2025-07-18T09:11:20.687Z"
   },
   {
    "duration": 0,
    "start_time": "2025-07-18T09:11:20.688Z"
   },
   {
    "duration": 0,
    "start_time": "2025-07-18T09:11:20.689Z"
   },
   {
    "duration": 0,
    "start_time": "2025-07-18T09:11:20.691Z"
   },
   {
    "duration": 0,
    "start_time": "2025-07-18T09:11:20.692Z"
   },
   {
    "duration": 0,
    "start_time": "2025-07-18T09:11:20.693Z"
   },
   {
    "duration": 0,
    "start_time": "2025-07-18T09:11:20.694Z"
   },
   {
    "duration": 0,
    "start_time": "2025-07-18T09:11:20.695Z"
   },
   {
    "duration": 0,
    "start_time": "2025-07-18T09:11:20.696Z"
   },
   {
    "duration": 0,
    "start_time": "2025-07-18T09:11:20.697Z"
   },
   {
    "duration": 12,
    "start_time": "2025-07-18T09:11:29.215Z"
   },
   {
    "duration": 15,
    "start_time": "2025-07-18T09:13:18.371Z"
   },
   {
    "duration": 9,
    "start_time": "2025-07-18T09:16:27.683Z"
   },
   {
    "duration": 55,
    "start_time": "2025-07-18T09:16:31.342Z"
   },
   {
    "duration": 2,
    "start_time": "2025-07-18T09:37:29.975Z"
   },
   {
    "duration": 3,
    "start_time": "2025-07-18T09:37:31.800Z"
   },
   {
    "duration": 1212,
    "start_time": "2025-07-18T09:37:37.270Z"
   },
   {
    "duration": 62,
    "start_time": "2025-07-18T09:37:38.483Z"
   },
   {
    "duration": 20,
    "start_time": "2025-07-18T09:37:38.546Z"
   },
   {
    "duration": 25,
    "start_time": "2025-07-18T09:37:38.568Z"
   },
   {
    "duration": 56,
    "start_time": "2025-07-18T09:37:38.595Z"
   },
   {
    "duration": 3,
    "start_time": "2025-07-18T09:37:38.662Z"
   },
   {
    "duration": 28,
    "start_time": "2025-07-18T09:37:38.667Z"
   },
   {
    "duration": 3,
    "start_time": "2025-07-18T09:37:38.697Z"
   },
   {
    "duration": 9,
    "start_time": "2025-07-18T09:37:38.702Z"
   },
   {
    "duration": 5,
    "start_time": "2025-07-18T09:37:38.714Z"
   },
   {
    "duration": 9,
    "start_time": "2025-07-18T09:37:38.721Z"
   },
   {
    "duration": 93,
    "start_time": "2025-07-18T09:37:38.731Z"
   },
   {
    "duration": 28,
    "start_time": "2025-07-18T09:37:38.826Z"
   },
   {
    "duration": 19,
    "start_time": "2025-07-18T09:37:38.856Z"
   },
   {
    "duration": 336,
    "start_time": "2025-07-18T09:37:38.877Z"
   },
   {
    "duration": 7,
    "start_time": "2025-07-18T09:37:39.215Z"
   },
   {
    "duration": 9,
    "start_time": "2025-07-18T09:37:39.224Z"
   },
   {
    "duration": 296,
    "start_time": "2025-07-18T09:37:39.235Z"
   },
   {
    "duration": 7,
    "start_time": "2025-07-18T09:37:39.533Z"
   },
   {
    "duration": 18,
    "start_time": "2025-07-18T09:37:39.541Z"
   },
   {
    "duration": 190,
    "start_time": "2025-07-18T09:37:39.561Z"
   },
   {
    "duration": 6,
    "start_time": "2025-07-18T09:37:39.753Z"
   },
   {
    "duration": 182,
    "start_time": "2025-07-18T09:37:39.760Z"
   },
   {
    "duration": 180,
    "start_time": "2025-07-18T09:37:39.944Z"
   },
   {
    "duration": 7,
    "start_time": "2025-07-18T09:37:40.126Z"
   },
   {
    "duration": 18,
    "start_time": "2025-07-18T09:37:40.134Z"
   },
   {
    "duration": 327,
    "start_time": "2025-07-18T09:37:40.163Z"
   },
   {
    "duration": 2,
    "start_time": "2025-07-18T09:37:40.493Z"
   },
   {
    "duration": 96,
    "start_time": "2025-07-18T09:37:40.497Z"
   },
   {
    "duration": 24,
    "start_time": "2025-07-18T09:37:40.595Z"
   },
   {
    "duration": 48,
    "start_time": "2025-07-18T09:37:40.621Z"
   },
   {
    "duration": 3,
    "start_time": "2025-07-18T09:37:40.671Z"
   },
   {
    "duration": 20,
    "start_time": "2025-07-18T09:37:40.676Z"
   },
   {
    "duration": 106,
    "start_time": "2025-07-18T09:37:40.698Z"
   },
   {
    "duration": 20,
    "start_time": "2025-07-18T09:38:04.523Z"
   },
   {
    "duration": 51,
    "start_time": "2025-07-18T09:43:47.367Z"
   },
   {
    "duration": 51,
    "start_time": "2025-07-18T09:43:51.353Z"
   },
   {
    "duration": 23,
    "start_time": "2025-07-18T09:44:01.221Z"
   },
   {
    "duration": 15,
    "start_time": "2025-07-18T09:44:11.474Z"
   },
   {
    "duration": 46,
    "start_time": "2025-07-18T09:44:17.245Z"
   },
   {
    "duration": 1421,
    "start_time": "2025-07-20T07:19:08.689Z"
   },
   {
    "duration": 72,
    "start_time": "2025-07-20T07:19:10.112Z"
   },
   {
    "duration": 3,
    "start_time": "2025-07-20T07:19:10.186Z"
   },
   {
    "duration": 27,
    "start_time": "2025-07-20T07:19:10.191Z"
   },
   {
    "duration": 52,
    "start_time": "2025-07-20T07:19:10.220Z"
   },
   {
    "duration": 3,
    "start_time": "2025-07-20T07:19:10.274Z"
   },
   {
    "duration": 20,
    "start_time": "2025-07-20T07:19:10.278Z"
   },
   {
    "duration": 22,
    "start_time": "2025-07-20T07:19:10.300Z"
   },
   {
    "duration": 212,
    "start_time": "2025-07-20T07:19:10.324Z"
   },
   {
    "duration": 5,
    "start_time": "2025-07-20T07:19:10.538Z"
   },
   {
    "duration": 13,
    "start_time": "2025-07-20T07:19:10.545Z"
   },
   {
    "duration": 8,
    "start_time": "2025-07-20T07:19:10.559Z"
   },
   {
    "duration": 10,
    "start_time": "2025-07-20T07:19:10.568Z"
   },
   {
    "duration": 6,
    "start_time": "2025-07-20T07:19:10.579Z"
   },
   {
    "duration": 9,
    "start_time": "2025-07-20T07:19:10.586Z"
   },
   {
    "duration": 294,
    "start_time": "2025-07-20T07:19:10.596Z"
   },
   {
    "duration": 7,
    "start_time": "2025-07-20T07:19:10.892Z"
   },
   {
    "duration": 26,
    "start_time": "2025-07-20T07:19:10.901Z"
   },
   {
    "duration": 287,
    "start_time": "2025-07-20T07:19:10.929Z"
   },
   {
    "duration": 7,
    "start_time": "2025-07-20T07:19:11.218Z"
   },
   {
    "duration": 33,
    "start_time": "2025-07-20T07:19:11.226Z"
   },
   {
    "duration": 185,
    "start_time": "2025-07-20T07:19:11.261Z"
   },
   {
    "duration": 4,
    "start_time": "2025-07-20T07:19:11.448Z"
   },
   {
    "duration": 162,
    "start_time": "2025-07-20T07:19:11.454Z"
   },
   {
    "duration": 172,
    "start_time": "2025-07-20T07:19:11.617Z"
   },
   {
    "duration": 5,
    "start_time": "2025-07-20T07:19:11.791Z"
   },
   {
    "duration": 6,
    "start_time": "2025-07-20T07:19:11.797Z"
   },
   {
    "duration": 409,
    "start_time": "2025-07-20T07:19:11.806Z"
   },
   {
    "duration": 4,
    "start_time": "2025-07-20T07:19:12.217Z"
   },
   {
    "duration": 52,
    "start_time": "2025-07-20T07:19:12.223Z"
   },
   {
    "duration": 23,
    "start_time": "2025-07-20T07:19:12.276Z"
   },
   {
    "duration": 23,
    "start_time": "2025-07-20T07:19:12.301Z"
   },
   {
    "duration": 70,
    "start_time": "2025-07-20T07:19:12.326Z"
   },
   {
    "duration": 13,
    "start_time": "2025-07-20T07:19:12.398Z"
   },
   {
    "duration": 140,
    "start_time": "2025-07-20T07:19:12.412Z"
   },
   {
    "duration": 266,
    "start_time": "2025-07-20T07:20:28.775Z"
   },
   {
    "duration": 6,
    "start_time": "2025-07-20T07:24:04.394Z"
   },
   {
    "duration": 1238,
    "start_time": "2025-07-20T07:24:39.862Z"
   },
   {
    "duration": 62,
    "start_time": "2025-07-20T07:24:41.102Z"
   },
   {
    "duration": 4,
    "start_time": "2025-07-20T07:24:41.165Z"
   },
   {
    "duration": 19,
    "start_time": "2025-07-20T07:24:41.171Z"
   },
   {
    "duration": 52,
    "start_time": "2025-07-20T07:24:41.192Z"
   },
   {
    "duration": 35,
    "start_time": "2025-07-20T07:24:41.246Z"
   },
   {
    "duration": 26,
    "start_time": "2025-07-20T07:24:41.283Z"
   },
   {
    "duration": 19,
    "start_time": "2025-07-20T07:24:41.311Z"
   },
   {
    "duration": 51,
    "start_time": "2025-07-20T07:24:41.331Z"
   },
   {
    "duration": 5,
    "start_time": "2025-07-20T07:24:41.385Z"
   },
   {
    "duration": 6,
    "start_time": "2025-07-20T07:24:41.391Z"
   },
   {
    "duration": 8,
    "start_time": "2025-07-20T07:24:41.398Z"
   },
   {
    "duration": 7,
    "start_time": "2025-07-20T07:24:41.407Z"
   },
   {
    "duration": 4,
    "start_time": "2025-07-20T07:24:41.416Z"
   },
   {
    "duration": 32,
    "start_time": "2025-07-20T07:24:41.421Z"
   },
   {
    "duration": 272,
    "start_time": "2025-07-20T07:24:41.454Z"
   },
   {
    "duration": 6,
    "start_time": "2025-07-20T07:24:41.728Z"
   },
   {
    "duration": 12,
    "start_time": "2025-07-20T07:24:41.736Z"
   },
   {
    "duration": 302,
    "start_time": "2025-07-20T07:24:41.750Z"
   },
   {
    "duration": 6,
    "start_time": "2025-07-20T07:24:42.054Z"
   },
   {
    "duration": 10,
    "start_time": "2025-07-20T07:24:42.062Z"
   },
   {
    "duration": 216,
    "start_time": "2025-07-20T07:24:42.074Z"
   },
   {
    "duration": 3,
    "start_time": "2025-07-20T07:24:42.292Z"
   },
   {
    "duration": 186,
    "start_time": "2025-07-20T07:24:42.297Z"
   },
   {
    "duration": 181,
    "start_time": "2025-07-20T07:24:42.484Z"
   },
   {
    "duration": 5,
    "start_time": "2025-07-20T07:24:42.671Z"
   },
   {
    "duration": 6,
    "start_time": "2025-07-20T07:24:42.678Z"
   },
   {
    "duration": 387,
    "start_time": "2025-07-20T07:24:42.687Z"
   },
   {
    "duration": 2,
    "start_time": "2025-07-20T07:24:43.076Z"
   },
   {
    "duration": 28,
    "start_time": "2025-07-20T07:24:43.080Z"
   },
   {
    "duration": 25,
    "start_time": "2025-07-20T07:24:43.109Z"
   },
   {
    "duration": 56,
    "start_time": "2025-07-20T07:24:43.136Z"
   },
   {
    "duration": 92,
    "start_time": "2025-07-20T07:24:43.194Z"
   },
   {
    "duration": 11,
    "start_time": "2025-07-20T07:24:43.288Z"
   },
   {
    "duration": 97,
    "start_time": "2025-07-20T07:24:43.301Z"
   },
   {
    "duration": 175,
    "start_time": "2025-07-20T07:26:09.655Z"
   },
   {
    "duration": 191,
    "start_time": "2025-07-20T07:26:47.798Z"
   },
   {
    "duration": 196,
    "start_time": "2025-07-20T07:26:58.568Z"
   },
   {
    "duration": 209,
    "start_time": "2025-07-20T07:27:05.237Z"
   },
   {
    "duration": 218,
    "start_time": "2025-07-20T07:27:10.378Z"
   },
   {
    "duration": 195,
    "start_time": "2025-07-20T07:27:24.584Z"
   },
   {
    "duration": 182,
    "start_time": "2025-07-20T07:30:20.020Z"
   },
   {
    "duration": 202,
    "start_time": "2025-07-20T07:30:43.144Z"
   },
   {
    "duration": 210,
    "start_time": "2025-07-20T07:32:05.269Z"
   },
   {
    "duration": 193,
    "start_time": "2025-07-20T07:32:33.292Z"
   },
   {
    "duration": 2428,
    "start_time": "2025-07-20T07:41:00.877Z"
   },
   {
    "duration": 2324,
    "start_time": "2025-07-20T07:43:07.259Z"
   },
   {
    "duration": 2462,
    "start_time": "2025-07-20T07:43:13.696Z"
   },
   {
    "duration": 2502,
    "start_time": "2025-07-20T07:44:37.805Z"
   },
   {
    "duration": 2073,
    "start_time": "2025-07-20T07:44:46.457Z"
   },
   {
    "duration": 2269,
    "start_time": "2025-07-20T07:44:51.888Z"
   },
   {
    "duration": 27,
    "start_time": "2025-07-20T07:58:13.525Z"
   },
   {
    "duration": 4,
    "start_time": "2025-07-20T08:00:47.951Z"
   },
   {
    "duration": 4,
    "start_time": "2025-07-20T08:00:54.723Z"
   },
   {
    "duration": 1183,
    "start_time": "2025-07-20T08:02:38.804Z"
   },
   {
    "duration": 62,
    "start_time": "2025-07-20T08:02:39.989Z"
   },
   {
    "duration": 4,
    "start_time": "2025-07-20T08:02:40.052Z"
   },
   {
    "duration": 18,
    "start_time": "2025-07-20T08:02:40.058Z"
   },
   {
    "duration": 60,
    "start_time": "2025-07-20T08:02:40.078Z"
   },
   {
    "duration": 4,
    "start_time": "2025-07-20T08:02:40.140Z"
   },
   {
    "duration": 90,
    "start_time": "2025-07-20T08:02:40.147Z"
   },
   {
    "duration": 21,
    "start_time": "2025-07-20T08:02:40.239Z"
   },
   {
    "duration": 100,
    "start_time": "2025-07-20T08:02:40.261Z"
   },
   {
    "duration": 5,
    "start_time": "2025-07-20T08:02:40.363Z"
   },
   {
    "duration": 6,
    "start_time": "2025-07-20T08:02:40.369Z"
   },
   {
    "duration": 11,
    "start_time": "2025-07-20T08:02:40.376Z"
   },
   {
    "duration": 19,
    "start_time": "2025-07-20T08:02:40.388Z"
   },
   {
    "duration": 7,
    "start_time": "2025-07-20T08:02:40.410Z"
   },
   {
    "duration": 18,
    "start_time": "2025-07-20T08:02:40.419Z"
   },
   {
    "duration": 17,
    "start_time": "2025-07-20T08:02:40.439Z"
   },
   {
    "duration": 289,
    "start_time": "2025-07-20T08:02:40.458Z"
   },
   {
    "duration": 7,
    "start_time": "2025-07-20T08:02:40.749Z"
   },
   {
    "duration": 18,
    "start_time": "2025-07-20T08:02:40.758Z"
   },
   {
    "duration": 314,
    "start_time": "2025-07-20T08:02:40.778Z"
   },
   {
    "duration": 7,
    "start_time": "2025-07-20T08:02:41.093Z"
   },
   {
    "duration": 12,
    "start_time": "2025-07-20T08:02:41.101Z"
   },
   {
    "duration": 200,
    "start_time": "2025-07-20T08:02:41.115Z"
   },
   {
    "duration": 207,
    "start_time": "2025-07-20T08:02:41.316Z"
   },
   {
    "duration": 2443,
    "start_time": "2025-07-20T08:02:41.525Z"
   },
   {
    "duration": 6,
    "start_time": "2025-07-20T08:02:43.972Z"
   },
   {
    "duration": 15,
    "start_time": "2025-07-20T08:02:43.979Z"
   },
   {
    "duration": 392,
    "start_time": "2025-07-20T08:02:43.996Z"
   },
   {
    "duration": 2,
    "start_time": "2025-07-20T08:02:44.390Z"
   },
   {
    "duration": 53,
    "start_time": "2025-07-20T08:02:44.394Z"
   },
   {
    "duration": 34,
    "start_time": "2025-07-20T08:02:44.448Z"
   },
   {
    "duration": 24,
    "start_time": "2025-07-20T08:02:44.484Z"
   },
   {
    "duration": 2,
    "start_time": "2025-07-20T08:02:44.510Z"
   },
   {
    "duration": 12,
    "start_time": "2025-07-20T08:02:44.514Z"
   },
   {
    "duration": 43,
    "start_time": "2025-07-20T08:02:44.528Z"
   },
   {
    "duration": 23,
    "start_time": "2025-07-20T08:03:08.976Z"
   },
   {
    "duration": 1502,
    "start_time": "2025-07-20T17:36:33.701Z"
   },
   {
    "duration": 86,
    "start_time": "2025-07-20T17:36:35.206Z"
   },
   {
    "duration": 5,
    "start_time": "2025-07-20T17:36:35.294Z"
   },
   {
    "duration": 32,
    "start_time": "2025-07-20T17:36:35.301Z"
   },
   {
    "duration": 154,
    "start_time": "2025-07-20T17:36:35.540Z"
   },
   {
    "duration": 25,
    "start_time": "2025-07-20T17:36:35.695Z"
   },
   {
    "duration": 81,
    "start_time": "2025-07-20T17:36:35.722Z"
   },
   {
    "duration": 6,
    "start_time": "2025-07-20T17:36:35.806Z"
   },
   {
    "duration": 187,
    "start_time": "2025-07-20T17:36:35.814Z"
   },
   {
    "duration": 21,
    "start_time": "2025-07-20T17:36:36.003Z"
   },
   {
    "duration": 36,
    "start_time": "2025-07-20T17:36:36.026Z"
   },
   {
    "duration": 15,
    "start_time": "2025-07-20T17:36:36.065Z"
   },
   {
    "duration": 20,
    "start_time": "2025-07-20T17:36:36.083Z"
   },
   {
    "duration": 41,
    "start_time": "2025-07-20T17:36:36.105Z"
   },
   {
    "duration": 359,
    "start_time": "2025-07-20T17:36:36.148Z"
   },
   {
    "duration": 11,
    "start_time": "2025-07-20T17:36:36.509Z"
   },
   {
    "duration": 42,
    "start_time": "2025-07-20T17:36:36.522Z"
   },
   {
    "duration": 339,
    "start_time": "2025-07-20T17:36:36.567Z"
   },
   {
    "duration": 6,
    "start_time": "2025-07-20T17:36:36.908Z"
   },
   {
    "duration": 60,
    "start_time": "2025-07-20T17:36:36.915Z"
   },
   {
    "duration": 193,
    "start_time": "2025-07-20T17:36:36.978Z"
   },
   {
    "duration": 207,
    "start_time": "2025-07-20T17:36:37.172Z"
   },
   {
    "duration": 2448,
    "start_time": "2025-07-20T17:36:37.380Z"
   },
   {
    "duration": 5,
    "start_time": "2025-07-20T17:36:39.830Z"
   },
   {
    "duration": 152,
    "start_time": "2025-07-20T17:36:39.836Z"
   },
   {
    "duration": 346,
    "start_time": "2025-07-20T17:36:39.991Z"
   },
   {
    "duration": 11,
    "start_time": "2025-07-20T17:36:40.338Z"
   },
   {
    "duration": 31,
    "start_time": "2025-07-20T17:36:40.351Z"
   },
   {
    "duration": 23,
    "start_time": "2025-07-20T17:36:40.383Z"
   },
   {
    "duration": 52,
    "start_time": "2025-07-20T17:36:40.407Z"
   },
   {
    "duration": 3,
    "start_time": "2025-07-20T17:36:40.461Z"
   },
   {
    "duration": 87,
    "start_time": "2025-07-20T17:36:40.466Z"
   },
   {
    "duration": 15,
    "start_time": "2025-07-20T17:36:40.555Z"
   },
   {
    "duration": 1253,
    "start_time": "2025-07-20T17:37:04.326Z"
   },
   {
    "duration": 63,
    "start_time": "2025-07-20T17:37:05.581Z"
   },
   {
    "duration": 13,
    "start_time": "2025-07-20T17:37:05.646Z"
   },
   {
    "duration": 17,
    "start_time": "2025-07-20T17:37:05.661Z"
   },
   {
    "duration": 120,
    "start_time": "2025-07-20T17:37:05.681Z"
   },
   {
    "duration": 77,
    "start_time": "2025-07-20T17:37:05.803Z"
   },
   {
    "duration": 113,
    "start_time": "2025-07-20T17:37:05.882Z"
   },
   {
    "duration": 34,
    "start_time": "2025-07-20T17:37:05.997Z"
   },
   {
    "duration": 69,
    "start_time": "2025-07-20T17:37:06.034Z"
   },
   {
    "duration": 6,
    "start_time": "2025-07-20T17:37:06.106Z"
   },
   {
    "duration": 20,
    "start_time": "2025-07-20T17:37:06.113Z"
   },
   {
    "duration": 13,
    "start_time": "2025-07-20T17:37:06.134Z"
   },
   {
    "duration": 8,
    "start_time": "2025-07-20T17:37:06.148Z"
   },
   {
    "duration": 4,
    "start_time": "2025-07-20T17:37:06.159Z"
   },
   {
    "duration": 5,
    "start_time": "2025-07-20T17:37:06.164Z"
   },
   {
    "duration": 9,
    "start_time": "2025-07-20T17:37:06.171Z"
   },
   {
    "duration": 308,
    "start_time": "2025-07-20T17:37:06.182Z"
   },
   {
    "duration": 13,
    "start_time": "2025-07-20T17:37:06.492Z"
   },
   {
    "duration": 49,
    "start_time": "2025-07-20T17:37:06.507Z"
   },
   {
    "duration": 308,
    "start_time": "2025-07-20T17:37:06.558Z"
   },
   {
    "duration": 6,
    "start_time": "2025-07-20T17:37:06.868Z"
   },
   {
    "duration": 76,
    "start_time": "2025-07-20T17:37:06.875Z"
   },
   {
    "duration": 184,
    "start_time": "2025-07-20T17:37:06.953Z"
   },
   {
    "duration": 212,
    "start_time": "2025-07-20T17:37:07.139Z"
   },
   {
    "duration": 2375,
    "start_time": "2025-07-20T17:37:07.353Z"
   },
   {
    "duration": 6,
    "start_time": "2025-07-20T17:37:09.729Z"
   },
   {
    "duration": 18,
    "start_time": "2025-07-20T17:37:09.736Z"
   },
   {
    "duration": 326,
    "start_time": "2025-07-20T17:37:09.756Z"
   },
   {
    "duration": 2,
    "start_time": "2025-07-20T17:37:10.084Z"
   },
   {
    "duration": 64,
    "start_time": "2025-07-20T17:37:10.088Z"
   },
   {
    "duration": 58,
    "start_time": "2025-07-20T17:37:10.154Z"
   },
   {
    "duration": 23,
    "start_time": "2025-07-20T17:37:10.214Z"
   },
   {
    "duration": 3,
    "start_time": "2025-07-20T17:37:10.239Z"
   },
   {
    "duration": 14,
    "start_time": "2025-07-20T17:37:10.244Z"
   },
   {
    "duration": 22,
    "start_time": "2025-07-20T17:37:10.259Z"
   },
   {
    "duration": 56,
    "start_time": "2025-07-21T10:34:39.769Z"
   },
   {
    "duration": 101,
    "start_time": "2025-07-21T10:34:52.434Z"
   },
   {
    "duration": 179,
    "start_time": "2025-07-21T10:34:52.537Z"
   },
   {
    "duration": 4,
    "start_time": "2025-07-21T10:34:52.717Z"
   },
   {
    "duration": 80,
    "start_time": "2025-07-21T10:34:52.722Z"
   },
   {
    "duration": 17,
    "start_time": "2025-07-21T10:34:52.804Z"
   },
   {
    "duration": 10,
    "start_time": "2025-07-21T10:34:52.822Z"
   },
   {
    "duration": 40,
    "start_time": "2025-07-21T10:34:52.834Z"
   },
   {
    "duration": 30,
    "start_time": "2025-07-21T10:34:52.876Z"
   },
   {
    "duration": 58,
    "start_time": "2025-07-21T10:34:52.908Z"
   },
   {
    "duration": 6,
    "start_time": "2025-07-21T10:34:52.968Z"
   },
   {
    "duration": 16,
    "start_time": "2025-07-21T10:34:52.976Z"
   },
   {
    "duration": 106,
    "start_time": "2025-07-21T10:34:52.993Z"
   },
   {
    "duration": 140,
    "start_time": "2025-07-21T10:34:53.101Z"
   },
   {
    "duration": 77,
    "start_time": "2025-07-21T10:34:53.243Z"
   },
   {
    "duration": 62,
    "start_time": "2025-07-21T10:34:53.321Z"
   },
   {
    "duration": 16,
    "start_time": "2025-07-21T10:34:53.385Z"
   },
   {
    "duration": 313,
    "start_time": "2025-07-21T10:34:53.403Z"
   },
   {
    "duration": 7,
    "start_time": "2025-07-21T10:34:53.718Z"
   },
   {
    "duration": 39,
    "start_time": "2025-07-21T10:34:53.726Z"
   },
   {
    "duration": 299,
    "start_time": "2025-07-21T10:34:53.767Z"
   },
   {
    "duration": 24,
    "start_time": "2025-07-21T10:34:54.067Z"
   },
   {
    "duration": 23,
    "start_time": "2025-07-21T10:34:54.093Z"
   },
   {
    "duration": 301,
    "start_time": "2025-07-21T10:34:54.118Z"
   },
   {
    "duration": 223,
    "start_time": "2025-07-21T10:34:54.421Z"
   },
   {
    "duration": 2546,
    "start_time": "2025-07-21T10:34:54.646Z"
   },
   {
    "duration": 7,
    "start_time": "2025-07-21T10:34:57.193Z"
   },
   {
    "duration": 53,
    "start_time": "2025-07-21T10:34:57.202Z"
   },
   {
    "duration": 376,
    "start_time": "2025-07-21T10:34:57.258Z"
   },
   {
    "duration": 4,
    "start_time": "2025-07-21T10:34:57.636Z"
   },
   {
    "duration": 86,
    "start_time": "2025-07-21T10:34:57.641Z"
   },
   {
    "duration": 23,
    "start_time": "2025-07-21T10:34:57.728Z"
   },
   {
    "duration": 44,
    "start_time": "2025-07-21T10:34:57.753Z"
   },
   {
    "duration": 24,
    "start_time": "2025-07-21T10:34:57.798Z"
   },
   {
    "duration": 92,
    "start_time": "2025-07-21T10:34:57.823Z"
   },
   {
    "duration": 153,
    "start_time": "2025-07-21T10:34:57.917Z"
   }
  ],
  "kernelspec": {
   "display_name": "Python 3 (ipykernel)",
   "language": "python",
   "name": "python3"
  },
  "language_info": {
   "codemirror_mode": {
    "name": "ipython",
    "version": 3
   },
   "file_extension": ".py",
   "mimetype": "text/x-python",
   "name": "python",
   "nbconvert_exporter": "python",
   "pygments_lexer": "ipython3",
   "version": "3.13.3"
  },
  "toc": {
   "base_numbering": 1,
   "nav_menu": {},
   "number_sections": true,
   "sideBar": true,
   "skip_h1_title": true,
   "title_cell": "Table of Contents",
   "title_sidebar": "Contents",
   "toc_cell": false,
   "toc_position": {},
   "toc_section_display": true,
   "toc_window_display": false
  }
 },
 "nbformat": 4,
 "nbformat_minor": 4
}
